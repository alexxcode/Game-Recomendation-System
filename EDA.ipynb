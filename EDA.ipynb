{
 "cells": [
  {
   "cell_type": "markdown",
   "metadata": {},
   "source": [
    "**Análisis Exploratorio de Datos**"
   ]
  },
  {
   "cell_type": "markdown",
   "metadata": {},
   "source": [
    "Importar librerías:"
   ]
  },
  {
   "cell_type": "code",
   "execution_count": 2,
   "metadata": {},
   "outputs": [],
   "source": [
    "# importar bibliotecas:\n",
    "import pandas as pd\n",
    "import numpy as np\n",
    "import re\n",
    "from textblob import TextBlob\n",
    "import matplotlib.pyplot as plt\n",
    "import seaborn as sns\n",
    "sns.set()"
   ]
  },
  {
   "cell_type": "markdown",
   "metadata": {},
   "source": [
    "Leer dataset"
   ]
  },
  {
   "cell_type": "code",
   "execution_count": 3,
   "metadata": {},
   "outputs": [],
   "source": [
    "df_review= pd.read_csv('reviews.csv')"
   ]
  },
  {
   "cell_type": "code",
   "execution_count": 4,
   "metadata": {},
   "outputs": [
    {
     "data": {
      "text/html": [
       "<div>\n",
       "<style scoped>\n",
       "    .dataframe tbody tr th:only-of-type {\n",
       "        vertical-align: middle;\n",
       "    }\n",
       "\n",
       "    .dataframe tbody tr th {\n",
       "        vertical-align: top;\n",
       "    }\n",
       "\n",
       "    .dataframe thead th {\n",
       "        text-align: right;\n",
       "    }\n",
       "</style>\n",
       "<table border=\"1\" class=\"dataframe\">\n",
       "  <thead>\n",
       "    <tr style=\"text-align: right;\">\n",
       "      <th></th>\n",
       "      <th>user_id</th>\n",
       "      <th>funny</th>\n",
       "      <th>item_id</th>\n",
       "      <th>helpful</th>\n",
       "      <th>recommend</th>\n",
       "      <th>review</th>\n",
       "    </tr>\n",
       "  </thead>\n",
       "  <tbody>\n",
       "    <tr>\n",
       "      <th>0</th>\n",
       "      <td>Wackky</td>\n",
       "      <td>1 person found this review funny</td>\n",
       "      <td>550</td>\n",
       "      <td>1 of 1 people (100%) found this review helpful</td>\n",
       "      <td>True</td>\n",
       "      <td>This game is fantastic if you are looking to D...</td>\n",
       "    </tr>\n",
       "    <tr>\n",
       "      <th>1</th>\n",
       "      <td>kevinator23</td>\n",
       "      <td>1 person found this review funny</td>\n",
       "      <td>218620</td>\n",
       "      <td>2 of 5 people (40%) found this review helpful</td>\n",
       "      <td>True</td>\n",
       "      <td>PayDay  on the difficulty scale Normal  lolwut...</td>\n",
       "    </tr>\n",
       "    <tr>\n",
       "      <th>2</th>\n",
       "      <td>Lord_Exploit</td>\n",
       "      <td>1 person found this review funny</td>\n",
       "      <td>311560</td>\n",
       "      <td>6 of 10 people (60%) found this review helpful</td>\n",
       "      <td>True</td>\n",
       "      <td>So after  odd hours i thought id write a reaso...</td>\n",
       "    </tr>\n",
       "  </tbody>\n",
       "</table>\n",
       "</div>"
      ],
      "text/plain": [
       "        user_id                             funny  item_id  \\\n",
       "0        Wackky  1 person found this review funny      550   \n",
       "1   kevinator23  1 person found this review funny   218620   \n",
       "2  Lord_Exploit  1 person found this review funny   311560   \n",
       "\n",
       "                                          helpful  recommend  \\\n",
       "0  1 of 1 people (100%) found this review helpful       True   \n",
       "1   2 of 5 people (40%) found this review helpful       True   \n",
       "2  6 of 10 people (60%) found this review helpful       True   \n",
       "\n",
       "                                              review  \n",
       "0  This game is fantastic if you are looking to D...  \n",
       "1  PayDay  on the difficulty scale Normal  lolwut...  \n",
       "2  So after  odd hours i thought id write a reaso...  "
      ]
     },
     "execution_count": 4,
     "metadata": {},
     "output_type": "execute_result"
    }
   ],
   "source": [
    "df_review.head(3)"
   ]
  },
  {
   "cell_type": "code",
   "execution_count": 5,
   "metadata": {},
   "outputs": [
    {
     "name": "stdout",
     "output_type": "stream",
     "text": [
      "<class 'pandas.core.frame.DataFrame'>\n",
      "RangeIndex: 1160 entries, 0 to 1159\n",
      "Data columns (total 6 columns):\n",
      " #   Column     Non-Null Count  Dtype \n",
      "---  ------     --------------  ----- \n",
      " 0   user_id    1160 non-null   object\n",
      " 1   funny      1160 non-null   object\n",
      " 2   item_id    1160 non-null   int64 \n",
      " 3   helpful    1160 non-null   object\n",
      " 4   recommend  1160 non-null   bool  \n",
      " 5   review     1152 non-null   object\n",
      "dtypes: bool(1), int64(1), object(4)\n",
      "memory usage: 46.6+ KB\n"
     ]
    }
   ],
   "source": [
    "df_review.info()"
   ]
  },
  {
   "cell_type": "code",
   "execution_count": 6,
   "metadata": {},
   "outputs": [
    {
     "name": "stdout",
     "output_type": "stream",
     "text": [
      "Shape: (1160, 6)\n",
      "\n",
      "Datos faltantes:\n",
      "user_id: 0 valores nulos\n",
      "funny: 0 valores nulos\n",
      "item_id: 0 valores nulos\n",
      "helpful: 0 valores nulos\n",
      "recommend: 0 valores nulos\n",
      "review: 8 valores nulos\n"
     ]
    }
   ],
   "source": [
    "# La siguiente función inspecciona los datos e identifica  valores nulos en todas las columnas.\n",
    "\n",
    "def data_inspeccion(variables):\n",
    "    print(f'Shape: {variables.shape}')\n",
    "    print(f'\\nDatos faltantes:')\n",
    "    for columna in variables.columns:\n",
    "        cantidad_nulos = variables[columna].isnull().sum()\n",
    "        print(f'{columna}: {cantidad_nulos} valores nulos')\n",
    "\n",
    "data_inspeccion(df_review)"
   ]
  },
  {
   "cell_type": "code",
   "execution_count": 7,
   "metadata": {},
   "outputs": [
    {
     "name": "stdout",
     "output_type": "stream",
     "text": [
      "Shape: (1152, 6)\n",
      "\n",
      "Datos faltantes:\n",
      "user_id: 0 valores nulos\n",
      "funny: 0 valores nulos\n",
      "item_id: 0 valores nulos\n",
      "helpful: 0 valores nulos\n",
      "recommend: 0 valores nulos\n",
      "review: 0 valores nulos\n"
     ]
    }
   ],
   "source": [
    "# Eliminar las filas con valores nulos \n",
    "df_review.dropna(inplace=True)\n",
    "\n",
    "data_inspeccion(df_review)"
   ]
  },
  {
   "cell_type": "markdown",
   "metadata": {},
   "source": [
    "Columna de sentimiento:"
   ]
  },
  {
   "cell_type": "code",
   "execution_count": 8,
   "metadata": {},
   "outputs": [],
   "source": [
    "def analisis_sentimiento(review):\n",
    "    analisis = TextBlob(str(review))\n",
    "    # Clasificar la polaridad de la reseña\n",
    "    if analisis.sentiment.polarity > 0:\n",
    "        return 2  # Positivo\n",
    "    elif analisis.sentiment.polarity < 0:\n",
    "        return 0  # Malo\n",
    "    else:\n",
    "        return 1  # Neutral\n",
    "\n",
    "# Aplicar el análisis de sentimiento a la columna 'review' y crear 'sentiment_analysis'\n",
    "df_review['sentiment_analysis'] = df_review['review'].apply(analisis_sentimiento)\n",
    "\n",
    "# Reemplazar la columna 'review' con 'sentiment_analysis'\n",
    "df_review.drop(columns=['review'], inplace=True)\n",
    "\n",
    "# Rellenar con 1 si la reseña está ausente\n",
    "df_review['sentiment_analysis'].fillna(1, inplace=True)"
   ]
  },
  {
   "cell_type": "code",
   "execution_count": 9,
   "metadata": {},
   "outputs": [
    {
     "name": "stdout",
     "output_type": "stream",
     "text": [
      "<class 'pandas.core.frame.DataFrame'>\n",
      "Index: 1152 entries, 0 to 1159\n",
      "Data columns (total 6 columns):\n",
      " #   Column              Non-Null Count  Dtype \n",
      "---  ------              --------------  ----- \n",
      " 0   user_id             1152 non-null   object\n",
      " 1   funny               1152 non-null   object\n",
      " 2   item_id             1152 non-null   int64 \n",
      " 3   helpful             1152 non-null   object\n",
      " 4   recommend           1152 non-null   bool  \n",
      " 5   sentiment_analysis  1152 non-null   int64 \n",
      "dtypes: bool(1), int64(2), object(3)\n",
      "memory usage: 55.1+ KB\n"
     ]
    }
   ],
   "source": [
    "df_review.info()"
   ]
  },
  {
   "cell_type": "code",
   "execution_count": 10,
   "metadata": {},
   "outputs": [
    {
     "name": "stdout",
     "output_type": "stream",
     "text": [
      "Shape: (1152, 6)\n",
      "\n",
      "Datos faltantes:\n",
      "user_id: 0 valores nulos\n",
      "funny: 0 valores nulos\n",
      "item_id: 0 valores nulos\n",
      "helpful: 0 valores nulos\n",
      "recommend: 0 valores nulos\n",
      "sentiment_analysis: 0 valores nulos\n"
     ]
    }
   ],
   "source": [
    "def data_inspeccion(variables):\n",
    "    print(f'Shape: {variables.shape}')\n",
    "    print(f'\\nDatos faltantes:')\n",
    "    for columna in variables.columns:\n",
    "        cantidad_nulos = df_review[columna].isnull().sum()\n",
    "        print(f'{columna}: {cantidad_nulos} valores nulos')\n",
    "\n",
    "data_inspeccion(df_review)"
   ]
  },
  {
   "cell_type": "code",
   "execution_count": 11,
   "metadata": {},
   "outputs": [
    {
     "data": {
      "text/html": [
       "<div>\n",
       "<style scoped>\n",
       "    .dataframe tbody tr th:only-of-type {\n",
       "        vertical-align: middle;\n",
       "    }\n",
       "\n",
       "    .dataframe tbody tr th {\n",
       "        vertical-align: top;\n",
       "    }\n",
       "\n",
       "    .dataframe thead th {\n",
       "        text-align: right;\n",
       "    }\n",
       "</style>\n",
       "<table border=\"1\" class=\"dataframe\">\n",
       "  <thead>\n",
       "    <tr style=\"text-align: right;\">\n",
       "      <th></th>\n",
       "      <th>user_id</th>\n",
       "      <th>funny</th>\n",
       "      <th>item_id</th>\n",
       "      <th>helpful</th>\n",
       "      <th>recommend</th>\n",
       "      <th>sentiment_analysis</th>\n",
       "    </tr>\n",
       "  </thead>\n",
       "  <tbody>\n",
       "    <tr>\n",
       "      <th>0</th>\n",
       "      <td>Wackky</td>\n",
       "      <td>1 person found this review funny</td>\n",
       "      <td>550</td>\n",
       "      <td>1 of 1 people (100%) found this review helpful</td>\n",
       "      <td>True</td>\n",
       "      <td>1</td>\n",
       "    </tr>\n",
       "    <tr>\n",
       "      <th>1</th>\n",
       "      <td>kevinator23</td>\n",
       "      <td>1 person found this review funny</td>\n",
       "      <td>218620</td>\n",
       "      <td>2 of 5 people (40%) found this review helpful</td>\n",
       "      <td>True</td>\n",
       "      <td>0</td>\n",
       "    </tr>\n",
       "    <tr>\n",
       "      <th>2</th>\n",
       "      <td>Lord_Exploit</td>\n",
       "      <td>1 person found this review funny</td>\n",
       "      <td>311560</td>\n",
       "      <td>6 of 10 people (60%) found this review helpful</td>\n",
       "      <td>True</td>\n",
       "      <td>2</td>\n",
       "    </tr>\n",
       "  </tbody>\n",
       "</table>\n",
       "</div>"
      ],
      "text/plain": [
       "        user_id                             funny  item_id  \\\n",
       "0        Wackky  1 person found this review funny      550   \n",
       "1   kevinator23  1 person found this review funny   218620   \n",
       "2  Lord_Exploit  1 person found this review funny   311560   \n",
       "\n",
       "                                          helpful  recommend  \\\n",
       "0  1 of 1 people (100%) found this review helpful       True   \n",
       "1   2 of 5 people (40%) found this review helpful       True   \n",
       "2  6 of 10 people (60%) found this review helpful       True   \n",
       "\n",
       "   sentiment_analysis  \n",
       "0                   1  \n",
       "1                   0  \n",
       "2                   2  "
      ]
     },
     "execution_count": 11,
     "metadata": {},
     "output_type": "execute_result"
    }
   ],
   "source": [
    "df_review.head(3)"
   ]
  },
  {
   "cell_type": "code",
   "execution_count": 12,
   "metadata": {},
   "outputs": [
    {
     "data": {
      "text/html": [
       "<div>\n",
       "<style scoped>\n",
       "    .dataframe tbody tr th:only-of-type {\n",
       "        vertical-align: middle;\n",
       "    }\n",
       "\n",
       "    .dataframe tbody tr th {\n",
       "        vertical-align: top;\n",
       "    }\n",
       "\n",
       "    .dataframe thead th {\n",
       "        text-align: right;\n",
       "    }\n",
       "</style>\n",
       "<table border=\"1\" class=\"dataframe\">\n",
       "  <thead>\n",
       "    <tr style=\"text-align: right;\">\n",
       "      <th></th>\n",
       "      <th>item_id</th>\n",
       "      <th>sentiment_analysis</th>\n",
       "    </tr>\n",
       "  </thead>\n",
       "  <tbody>\n",
       "    <tr>\n",
       "      <th>count</th>\n",
       "      <td>1152.000000</td>\n",
       "      <td>1152.000000</td>\n",
       "    </tr>\n",
       "    <tr>\n",
       "      <th>mean</th>\n",
       "      <td>201075.483507</td>\n",
       "      <td>1.201389</td>\n",
       "    </tr>\n",
       "    <tr>\n",
       "      <th>std</th>\n",
       "      <td>146584.550344</td>\n",
       "      <td>0.896599</td>\n",
       "    </tr>\n",
       "    <tr>\n",
       "      <th>min</th>\n",
       "      <td>20.000000</td>\n",
       "      <td>0.000000</td>\n",
       "    </tr>\n",
       "    <tr>\n",
       "      <th>25%</th>\n",
       "      <td>12210.000000</td>\n",
       "      <td>0.000000</td>\n",
       "    </tr>\n",
       "    <tr>\n",
       "      <th>50%</th>\n",
       "      <td>230775.000000</td>\n",
       "      <td>2.000000</td>\n",
       "    </tr>\n",
       "    <tr>\n",
       "      <th>75%</th>\n",
       "      <td>316367.500000</td>\n",
       "      <td>2.000000</td>\n",
       "    </tr>\n",
       "    <tr>\n",
       "      <th>max</th>\n",
       "      <td>516040.000000</td>\n",
       "      <td>2.000000</td>\n",
       "    </tr>\n",
       "  </tbody>\n",
       "</table>\n",
       "</div>"
      ],
      "text/plain": [
       "             item_id  sentiment_analysis\n",
       "count    1152.000000         1152.000000\n",
       "mean   201075.483507            1.201389\n",
       "std    146584.550344            0.896599\n",
       "min        20.000000            0.000000\n",
       "25%     12210.000000            0.000000\n",
       "50%    230775.000000            2.000000\n",
       "75%    316367.500000            2.000000\n",
       "max    516040.000000            2.000000"
      ]
     },
     "execution_count": 12,
     "metadata": {},
     "output_type": "execute_result"
    }
   ],
   "source": [
    "#  Estadísticas resumidas de columnas numéricas\n",
    "df_review.describe() "
   ]
  },
  {
   "cell_type": "markdown",
   "metadata": {},
   "source": [
    "Analisis del Dataset 'items'"
   ]
  },
  {
   "cell_type": "code",
   "execution_count": 13,
   "metadata": {},
   "outputs": [
    {
     "data": {
      "text/html": [
       "<div>\n",
       "<style scoped>\n",
       "    .dataframe tbody tr th:only-of-type {\n",
       "        vertical-align: middle;\n",
       "    }\n",
       "\n",
       "    .dataframe tbody tr th {\n",
       "        vertical-align: top;\n",
       "    }\n",
       "\n",
       "    .dataframe thead th {\n",
       "        text-align: right;\n",
       "    }\n",
       "</style>\n",
       "<table border=\"1\" class=\"dataframe\">\n",
       "  <thead>\n",
       "    <tr style=\"text-align: right;\">\n",
       "      <th></th>\n",
       "      <th>user_id</th>\n",
       "      <th>items_count</th>\n",
       "      <th>item_id</th>\n",
       "      <th>item_name</th>\n",
       "      <th>playtime_forever</th>\n",
       "    </tr>\n",
       "  </thead>\n",
       "  <tbody>\n",
       "    <tr>\n",
       "      <th>0</th>\n",
       "      <td>76561197970982479</td>\n",
       "      <td>277</td>\n",
       "      <td>10</td>\n",
       "      <td>CounterStrike</td>\n",
       "      <td>6</td>\n",
       "    </tr>\n",
       "    <tr>\n",
       "      <th>1</th>\n",
       "      <td>76561197970982479</td>\n",
       "      <td>277</td>\n",
       "      <td>20</td>\n",
       "      <td>Team Fortress Classic</td>\n",
       "      <td>0</td>\n",
       "    </tr>\n",
       "    <tr>\n",
       "      <th>2</th>\n",
       "      <td>76561197970982479</td>\n",
       "      <td>277</td>\n",
       "      <td>30</td>\n",
       "      <td>Day of Defeat</td>\n",
       "      <td>7</td>\n",
       "    </tr>\n",
       "  </tbody>\n",
       "</table>\n",
       "</div>"
      ],
      "text/plain": [
       "             user_id  items_count  item_id              item_name  \\\n",
       "0  76561197970982479          277       10          CounterStrike   \n",
       "1  76561197970982479          277       20  Team Fortress Classic   \n",
       "2  76561197970982479          277       30          Day of Defeat   \n",
       "\n",
       "   playtime_forever  \n",
       "0                 6  \n",
       "1                 0  \n",
       "2                 7  "
      ]
     },
     "execution_count": 13,
     "metadata": {},
     "output_type": "execute_result"
    }
   ],
   "source": [
    "df_items = pd.read_csv('items.csv')\n",
    "df_items.head(3)"
   ]
  },
  {
   "cell_type": "code",
   "execution_count": 14,
   "metadata": {},
   "outputs": [
    {
     "name": "stdout",
     "output_type": "stream",
     "text": [
      "<class 'pandas.core.frame.DataFrame'>\n",
      "RangeIndex: 5094092 entries, 0 to 5094091\n",
      "Data columns (total 5 columns):\n",
      " #   Column            Dtype \n",
      "---  ------            ----- \n",
      " 0   user_id           object\n",
      " 1   items_count       int64 \n",
      " 2   item_id           int64 \n",
      " 3   item_name         object\n",
      " 4   playtime_forever  int64 \n",
      "dtypes: int64(3), object(2)\n",
      "memory usage: 194.3+ MB\n"
     ]
    }
   ],
   "source": [
    "df_items.info()"
   ]
  },
  {
   "cell_type": "code",
   "execution_count": 15,
   "metadata": {},
   "outputs": [
    {
     "name": "stdout",
     "output_type": "stream",
     "text": [
      "Valores nulos en la columna 'item_name': 1090\n",
      "\n",
      "Primeros valores no nulos en la columna:\n",
      "0              CounterStrike\n",
      "1      Team Fortress Classic\n",
      "2              Day of Defeat\n",
      "3         Deathmatch Classic\n",
      "4    HalfLife Opposing Force\n",
      "Name: item_name, dtype: object\n"
     ]
    }
   ],
   "source": [
    "# Analizamos la columna 'item_name' en busca de valores nulos\n",
    "columna_item_name = df_items['item_name'] # Selecciono la columna 'item_name'\n",
    "valores_nulos = columna_item_name.isnull().sum()  # Cuento la cantidad de valores nulos en la columna\n",
    "\n",
    "# Muestro la cantidad de valores nulos y los primeros valores no nulos en la columna\n",
    "print(f\"Valores nulos en la columna 'item_name': {valores_nulos}\")\n",
    "print(\"\\nPrimeros valores no nulos en la columna:\")\n",
    "print(columna_item_name.dropna().head())  # Muestro los primeros valores no nulos"
   ]
  },
  {
   "cell_type": "code",
   "execution_count": 16,
   "metadata": {},
   "outputs": [],
   "source": [
    "# Eliminare las filas con valores nulos en todo el DataFrame\n",
    "df_items.dropna(inplace=True)\n",
    "\n",
    "# Verifico que se hayan eliminado\n",
    "valores_nulos_despues = df_items.isnull().sum()\n",
    "\n"
   ]
  },
  {
   "cell_type": "code",
   "execution_count": 17,
   "metadata": {},
   "outputs": [
    {
     "data": {
      "text/plain": [
       "user_id             0\n",
       "items_count         0\n",
       "item_id             0\n",
       "item_name           0\n",
       "playtime_forever    0\n",
       "dtype: int64"
      ]
     },
     "execution_count": 17,
     "metadata": {},
     "output_type": "execute_result"
    }
   ],
   "source": [
    "valores_nulos_despues "
   ]
  },
  {
   "cell_type": "code",
   "execution_count": 18,
   "metadata": {},
   "outputs": [
    {
     "name": "stdout",
     "output_type": "stream",
     "text": [
      "<class 'pandas.core.frame.DataFrame'>\n",
      "Index: 5093002 entries, 0 to 5094091\n",
      "Data columns (total 5 columns):\n",
      " #   Column            Dtype \n",
      "---  ------            ----- \n",
      " 0   user_id           object\n",
      " 1   items_count       int64 \n",
      " 2   item_id           int64 \n",
      " 3   item_name         object\n",
      " 4   playtime_forever  int64 \n",
      "dtypes: int64(3), object(2)\n",
      "memory usage: 233.1+ MB\n"
     ]
    }
   ],
   "source": [
    "df_items.info()"
   ]
  },
  {
   "cell_type": "code",
   "execution_count": 19,
   "metadata": {},
   "outputs": [
    {
     "data": {
      "text/html": [
       "<div>\n",
       "<style scoped>\n",
       "    .dataframe tbody tr th:only-of-type {\n",
       "        vertical-align: middle;\n",
       "    }\n",
       "\n",
       "    .dataframe tbody tr th {\n",
       "        vertical-align: top;\n",
       "    }\n",
       "\n",
       "    .dataframe thead th {\n",
       "        text-align: right;\n",
       "    }\n",
       "</style>\n",
       "<table border=\"1\" class=\"dataframe\">\n",
       "  <thead>\n",
       "    <tr style=\"text-align: right;\">\n",
       "      <th></th>\n",
       "      <th>user_id</th>\n",
       "      <th>items_count</th>\n",
       "      <th>item_id</th>\n",
       "      <th>item_name</th>\n",
       "      <th>playtime_forever</th>\n",
       "    </tr>\n",
       "  </thead>\n",
       "  <tbody>\n",
       "    <tr>\n",
       "      <th>count</th>\n",
       "      <td>5093002</td>\n",
       "      <td>5.093002e+06</td>\n",
       "      <td>5.093002e+06</td>\n",
       "      <td>5093002</td>\n",
       "      <td>5.093002e+06</td>\n",
       "    </tr>\n",
       "    <tr>\n",
       "      <th>unique</th>\n",
       "      <td>70912</td>\n",
       "      <td>NaN</td>\n",
       "      <td>NaN</td>\n",
       "      <td>10730</td>\n",
       "      <td>NaN</td>\n",
       "    </tr>\n",
       "    <tr>\n",
       "      <th>top</th>\n",
       "      <td>phrostb</td>\n",
       "      <td>NaN</td>\n",
       "      <td>NaN</td>\n",
       "      <td>Dota  Test</td>\n",
       "      <td>NaN</td>\n",
       "    </tr>\n",
       "    <tr>\n",
       "      <th>freq</th>\n",
       "      <td>7760</td>\n",
       "      <td>NaN</td>\n",
       "      <td>NaN</td>\n",
       "      <td>49136</td>\n",
       "      <td>NaN</td>\n",
       "    </tr>\n",
       "    <tr>\n",
       "      <th>mean</th>\n",
       "      <td>NaN</td>\n",
       "      <td>3.156822e+02</td>\n",
       "      <td>1.783790e+05</td>\n",
       "      <td>NaN</td>\n",
       "      <td>9.906783e+02</td>\n",
       "    </tr>\n",
       "    <tr>\n",
       "      <th>std</th>\n",
       "      <td>NaN</td>\n",
       "      <td>6.968567e+02</td>\n",
       "      <td>1.318627e+05</td>\n",
       "      <td>NaN</td>\n",
       "      <td>5.414601e+03</td>\n",
       "    </tr>\n",
       "    <tr>\n",
       "      <th>min</th>\n",
       "      <td>NaN</td>\n",
       "      <td>1.000000e+00</td>\n",
       "      <td>1.000000e+01</td>\n",
       "      <td>NaN</td>\n",
       "      <td>0.000000e+00</td>\n",
       "    </tr>\n",
       "    <tr>\n",
       "      <th>25%</th>\n",
       "      <td>NaN</td>\n",
       "      <td>7.100000e+01</td>\n",
       "      <td>3.445000e+04</td>\n",
       "      <td>NaN</td>\n",
       "      <td>0.000000e+00</td>\n",
       "    </tr>\n",
       "    <tr>\n",
       "      <th>50%</th>\n",
       "      <td>NaN</td>\n",
       "      <td>1.370000e+02</td>\n",
       "      <td>2.144200e+05</td>\n",
       "      <td>NaN</td>\n",
       "      <td>3.400000e+01</td>\n",
       "    </tr>\n",
       "    <tr>\n",
       "      <th>75%</th>\n",
       "      <td>NaN</td>\n",
       "      <td>2.750000e+02</td>\n",
       "      <td>2.664300e+05</td>\n",
       "      <td>NaN</td>\n",
       "      <td>3.550000e+02</td>\n",
       "    </tr>\n",
       "    <tr>\n",
       "      <th>max</th>\n",
       "      <td>NaN</td>\n",
       "      <td>7.762000e+03</td>\n",
       "      <td>5.307200e+05</td>\n",
       "      <td>NaN</td>\n",
       "      <td>6.427730e+05</td>\n",
       "    </tr>\n",
       "  </tbody>\n",
       "</table>\n",
       "</div>"
      ],
      "text/plain": [
       "        user_id   items_count       item_id   item_name  playtime_forever\n",
       "count   5093002  5.093002e+06  5.093002e+06     5093002      5.093002e+06\n",
       "unique    70912           NaN           NaN       10730               NaN\n",
       "top     phrostb           NaN           NaN  Dota  Test               NaN\n",
       "freq       7760           NaN           NaN       49136               NaN\n",
       "mean        NaN  3.156822e+02  1.783790e+05         NaN      9.906783e+02\n",
       "std         NaN  6.968567e+02  1.318627e+05         NaN      5.414601e+03\n",
       "min         NaN  1.000000e+00  1.000000e+01         NaN      0.000000e+00\n",
       "25%         NaN  7.100000e+01  3.445000e+04         NaN      0.000000e+00\n",
       "50%         NaN  1.370000e+02  2.144200e+05         NaN      3.400000e+01\n",
       "75%         NaN  2.750000e+02  2.664300e+05         NaN      3.550000e+02\n",
       "max         NaN  7.762000e+03  5.307200e+05         NaN      6.427730e+05"
      ]
     },
     "execution_count": 19,
     "metadata": {},
     "output_type": "execute_result"
    }
   ],
   "source": [
    "# include='all' proporciona un resumen adicional de los datos\n",
    "df_items.describe(include='all')"
   ]
  },
  {
   "cell_type": "code",
   "execution_count": 20,
   "metadata": {},
   "outputs": [
    {
     "name": "stdout",
     "output_type": "stream",
     "text": [
      "<class 'pandas.core.frame.DataFrame'>\n",
      "Index: 5093002 entries, 0 to 5094091\n",
      "Data columns (total 5 columns):\n",
      " #   Column            Dtype \n",
      "---  ------            ----- \n",
      " 0   user_id           object\n",
      " 1   items_count       int64 \n",
      " 2   item_id           int64 \n",
      " 3   item_name         object\n",
      " 4   playtime_forever  int64 \n",
      "dtypes: int64(3), object(2)\n",
      "memory usage: 233.1+ MB\n"
     ]
    }
   ],
   "source": [
    "df_items.info()"
   ]
  },
  {
   "cell_type": "code",
   "execution_count": null,
   "metadata": {},
   "outputs": [],
   "source": []
  },
  {
   "cell_type": "markdown",
   "metadata": {},
   "source": [
    "Analisis del Dataset 'games'"
   ]
  },
  {
   "cell_type": "code",
   "execution_count": 21,
   "metadata": {},
   "outputs": [],
   "source": [
    "df_games= pd.read_csv('games.csv')"
   ]
  },
  {
   "cell_type": "code",
   "execution_count": 22,
   "metadata": {},
   "outputs": [
    {
     "name": "stdout",
     "output_type": "stream",
     "text": [
      "<class 'pandas.core.frame.DataFrame'>\n",
      "RangeIndex: 22510 entries, 0 to 22509\n",
      "Data columns (total 9 columns):\n",
      " #   Column        Non-Null Count  Dtype \n",
      "---  ------        --------------  ----- \n",
      " 0   publisher     22475 non-null  object\n",
      " 1   genres        22510 non-null  object\n",
      " 2   app_name      22491 non-null  object\n",
      " 3   title         22491 non-null  object\n",
      " 4   release_date  22510 non-null  object\n",
      " 5   tags          22510 non-null  object\n",
      " 6   specs         22510 non-null  object\n",
      " 7   price         22510 non-null  object\n",
      " 8   developer     22463 non-null  object\n",
      "dtypes: object(9)\n",
      "memory usage: 1.5+ MB\n"
     ]
    }
   ],
   "source": [
    "df_games.info()"
   ]
  },
  {
   "cell_type": "code",
   "execution_count": 23,
   "metadata": {},
   "outputs": [],
   "source": [
    "# Eliminare las filas con valores nulos en todo el DataFrame\n",
    "df_games.dropna(inplace=True)\n",
    "\n",
    "# Verifico que se hayan eliminado\n",
    "valores_nulos_despues = df_games.isnull().sum()\n",
    "\n",
    "# Muestro la cantidad de valores nulos después de eliminarlos\n"
   ]
  },
  {
   "cell_type": "code",
   "execution_count": 24,
   "metadata": {},
   "outputs": [
    {
     "data": {
      "text/html": [
       "<div>\n",
       "<style scoped>\n",
       "    .dataframe tbody tr th:only-of-type {\n",
       "        vertical-align: middle;\n",
       "    }\n",
       "\n",
       "    .dataframe tbody tr th {\n",
       "        vertical-align: top;\n",
       "    }\n",
       "\n",
       "    .dataframe thead th {\n",
       "        text-align: right;\n",
       "    }\n",
       "</style>\n",
       "<table border=\"1\" class=\"dataframe\">\n",
       "  <thead>\n",
       "    <tr style=\"text-align: right;\">\n",
       "      <th></th>\n",
       "      <th>publisher</th>\n",
       "      <th>genres</th>\n",
       "      <th>app_name</th>\n",
       "      <th>title</th>\n",
       "      <th>release_date</th>\n",
       "      <th>tags</th>\n",
       "      <th>specs</th>\n",
       "      <th>price</th>\n",
       "      <th>developer</th>\n",
       "    </tr>\n",
       "  </thead>\n",
       "  <tbody>\n",
       "    <tr>\n",
       "      <th>count</th>\n",
       "      <td>22446</td>\n",
       "      <td>22446</td>\n",
       "      <td>22446</td>\n",
       "      <td>22446</td>\n",
       "      <td>22446</td>\n",
       "      <td>22446</td>\n",
       "      <td>22446</td>\n",
       "      <td>22446</td>\n",
       "      <td>22446</td>\n",
       "    </tr>\n",
       "    <tr>\n",
       "      <th>unique</th>\n",
       "      <td>7757</td>\n",
       "      <td>803</td>\n",
       "      <td>21872</td>\n",
       "      <td>21872</td>\n",
       "      <td>3209</td>\n",
       "      <td>12404</td>\n",
       "      <td>3311</td>\n",
       "      <td>132</td>\n",
       "      <td>10170</td>\n",
       "    </tr>\n",
       "    <tr>\n",
       "      <th>top</th>\n",
       "      <td>Ubisoft</td>\n",
       "      <td>Action</td>\n",
       "      <td>Train Simulator BR Class  Loco AddOn</td>\n",
       "      <td>Train Simulator BR Class  Loco AddOn</td>\n",
       "      <td>2012-10-16</td>\n",
       "      <td>Simulation</td>\n",
       "      <td>Singleplayer</td>\n",
       "      <td>9.99</td>\n",
       "      <td>Dovetail Games</td>\n",
       "    </tr>\n",
       "    <tr>\n",
       "      <th>freq</th>\n",
       "      <td>366</td>\n",
       "      <td>1573</td>\n",
       "      <td>12</td>\n",
       "      <td>12</td>\n",
       "      <td>100</td>\n",
       "      <td>964</td>\n",
       "      <td>2622</td>\n",
       "      <td>3166</td>\n",
       "      <td>253</td>\n",
       "    </tr>\n",
       "  </tbody>\n",
       "</table>\n",
       "</div>"
      ],
      "text/plain": [
       "       publisher  genres                              app_name  \\\n",
       "count      22446   22446                                 22446   \n",
       "unique      7757     803                                 21872   \n",
       "top      Ubisoft  Action  Train Simulator BR Class  Loco AddOn   \n",
       "freq         366    1573                                    12   \n",
       "\n",
       "                                       title release_date        tags  \\\n",
       "count                                  22446        22446       22446   \n",
       "unique                                 21872         3209       12404   \n",
       "top     Train Simulator BR Class  Loco AddOn   2012-10-16  Simulation   \n",
       "freq                                      12          100         964   \n",
       "\n",
       "               specs  price       developer  \n",
       "count          22446  22446           22446  \n",
       "unique          3311    132           10170  \n",
       "top     Singleplayer   9.99  Dovetail Games  \n",
       "freq            2622   3166             253  "
      ]
     },
     "execution_count": 24,
     "metadata": {},
     "output_type": "execute_result"
    }
   ],
   "source": [
    "df_games.describe()"
   ]
  },
  {
   "cell_type": "markdown",
   "metadata": {},
   "source": []
  },
  {
   "cell_type": "markdown",
   "metadata": {},
   "source": [
    "Algunas graficas para comprender mejor los datos"
   ]
  },
  {
   "cell_type": "code",
   "execution_count": 25,
   "metadata": {},
   "outputs": [
    {
     "data": {
      "image/png": "[encoded data removed]",
      "text/plain": [
       "<Figure size 1000x400 with 1 Axes>"
      ]
     },
     "metadata": {},
     "output_type": "display_data"
    },
    {
     "ename": "ValueError",
     "evalue": "Could not interpret value `playtime_2weeks` for parameter `y`",
     "output_type": "error",
     "traceback": [
      "\u001b[1;31m---------------------------------------------------------------------------\u001b[0m",
      "\u001b[1;31mValueError\u001b[0m                                Traceback (most recent call last)",
      "\u001b[1;32mc:\\Users\\alexi\\OneDrive\\Documentos\\GitHub\\P1\\Proyecto-1--Machine-Learning-Operations-\\EDA.ipynb Cell 33\u001b[0m line \u001b[0;36m1\n\u001b[0;32m     <a href='vscode-notebook-cell:/c%3A/Users/alexi/OneDrive/Documentos/GitHub/P1/Proyecto-1--Machine-Learning-Operations-/EDA.ipynb#X44sZmlsZQ%3D%3D?line=9'>10</a>\u001b[0m \u001b[39m# Crear un gráfico de dispersión para mi Dataframe 'df_items' \u001b[39;00m\n\u001b[0;32m     <a href='vscode-notebook-cell:/c%3A/Users/alexi/OneDrive/Documentos/GitHub/P1/Proyecto-1--Machine-Learning-Operations-/EDA.ipynb#X44sZmlsZQ%3D%3D?line=10'>11</a>\u001b[0m plt\u001b[39m.\u001b[39mfigure(figsize\u001b[39m=\u001b[39m(\u001b[39m8\u001b[39m, \u001b[39m6\u001b[39m))\n\u001b[1;32m---> <a href='vscode-notebook-cell:/c%3A/Users/alexi/OneDrive/Documentos/GitHub/P1/Proyecto-1--Machine-Learning-Operations-/EDA.ipynb#X44sZmlsZQ%3D%3D?line=11'>12</a>\u001b[0m sns\u001b[39m.\u001b[39;49mscatterplot(data\u001b[39m=\u001b[39;49mdf_items, x\u001b[39m=\u001b[39;49m\u001b[39m'\u001b[39;49m\u001b[39mplaytime_forever\u001b[39;49m\u001b[39m'\u001b[39;49m, y\u001b[39m=\u001b[39;49m\u001b[39m'\u001b[39;49m\u001b[39mplaytime_2weeks\u001b[39;49m\u001b[39m'\u001b[39;49m)\n\u001b[0;32m     <a href='vscode-notebook-cell:/c%3A/Users/alexi/OneDrive/Documentos/GitHub/P1/Proyecto-1--Machine-Learning-Operations-/EDA.ipynb#X44sZmlsZQ%3D%3D?line=12'>13</a>\u001b[0m plt\u001b[39m.\u001b[39mtitle(\u001b[39m'\u001b[39m\u001b[39mGráfico de Dispersión entre playtime_forever y playtime_2weeks\u001b[39m\u001b[39m'\u001b[39m)\n\u001b[0;32m     <a href='vscode-notebook-cell:/c%3A/Users/alexi/OneDrive/Documentos/GitHub/P1/Proyecto-1--Machine-Learning-Operations-/EDA.ipynb#X44sZmlsZQ%3D%3D?line=13'>14</a>\u001b[0m plt\u001b[39m.\u001b[39mxlabel(\u001b[39m'\u001b[39m\u001b[39mplaytime_forever\u001b[39m\u001b[39m'\u001b[39m)\n",
      "File \u001b[1;32m~\\AppData\\Local\\Packages\\PythonSoftwareFoundation.Python.3.11_qbz5n2kfra8p0\\LocalCache\\local-packages\\Python311\\site-packages\\seaborn\\relational.py:742\u001b[0m, in \u001b[0;36mscatterplot\u001b[1;34m(data, x, y, hue, size, style, palette, hue_order, hue_norm, sizes, size_order, size_norm, markers, style_order, legend, ax, **kwargs)\u001b[0m\n\u001b[0;32m    732\u001b[0m \u001b[39mdef\u001b[39;00m \u001b[39mscatterplot\u001b[39m(\n\u001b[0;32m    733\u001b[0m     data\u001b[39m=\u001b[39m\u001b[39mNone\u001b[39;00m, \u001b[39m*\u001b[39m,\n\u001b[0;32m    734\u001b[0m     x\u001b[39m=\u001b[39m\u001b[39mNone\u001b[39;00m, y\u001b[39m=\u001b[39m\u001b[39mNone\u001b[39;00m, hue\u001b[39m=\u001b[39m\u001b[39mNone\u001b[39;00m, size\u001b[39m=\u001b[39m\u001b[39mNone\u001b[39;00m, style\u001b[39m=\u001b[39m\u001b[39mNone\u001b[39;00m,\n\u001b[1;32m   (...)\u001b[0m\n\u001b[0;32m    738\u001b[0m     \u001b[39m*\u001b[39m\u001b[39m*\u001b[39mkwargs\n\u001b[0;32m    739\u001b[0m ):\n\u001b[0;32m    741\u001b[0m     variables \u001b[39m=\u001b[39m _ScatterPlotter\u001b[39m.\u001b[39mget_semantics(\u001b[39mlocals\u001b[39m())\n\u001b[1;32m--> 742\u001b[0m     p \u001b[39m=\u001b[39m _ScatterPlotter(data\u001b[39m=\u001b[39;49mdata, variables\u001b[39m=\u001b[39;49mvariables, legend\u001b[39m=\u001b[39;49mlegend)\n\u001b[0;32m    744\u001b[0m     p\u001b[39m.\u001b[39mmap_hue(palette\u001b[39m=\u001b[39mpalette, order\u001b[39m=\u001b[39mhue_order, norm\u001b[39m=\u001b[39mhue_norm)\n\u001b[0;32m    745\u001b[0m     p\u001b[39m.\u001b[39mmap_size(sizes\u001b[39m=\u001b[39msizes, order\u001b[39m=\u001b[39msize_order, norm\u001b[39m=\u001b[39msize_norm)\n",
      "File \u001b[1;32m~\\AppData\\Local\\Packages\\PythonSoftwareFoundation.Python.3.11_qbz5n2kfra8p0\\LocalCache\\local-packages\\Python311\\site-packages\\seaborn\\relational.py:538\u001b[0m, in \u001b[0;36m_ScatterPlotter.__init__\u001b[1;34m(self, data, variables, legend)\u001b[0m\n\u001b[0;32m    529\u001b[0m \u001b[39mdef\u001b[39;00m \u001b[39m__init__\u001b[39m(\u001b[39mself\u001b[39m, \u001b[39m*\u001b[39m, data\u001b[39m=\u001b[39m\u001b[39mNone\u001b[39;00m, variables\u001b[39m=\u001b[39m{}, legend\u001b[39m=\u001b[39m\u001b[39mNone\u001b[39;00m):\n\u001b[0;32m    530\u001b[0m \n\u001b[0;32m    531\u001b[0m     \u001b[39m# TODO this is messy, we want the mapping to be agnostic about\u001b[39;00m\n\u001b[0;32m    532\u001b[0m     \u001b[39m# the kind of plot to draw, but for the time being we need to set\u001b[39;00m\n\u001b[0;32m    533\u001b[0m     \u001b[39m# this information so the SizeMapping can use it\u001b[39;00m\n\u001b[0;32m    534\u001b[0m     \u001b[39mself\u001b[39m\u001b[39m.\u001b[39m_default_size_range \u001b[39m=\u001b[39m (\n\u001b[0;32m    535\u001b[0m         np\u001b[39m.\u001b[39mr_[\u001b[39m.5\u001b[39m, \u001b[39m2\u001b[39m] \u001b[39m*\u001b[39m np\u001b[39m.\u001b[39msquare(mpl\u001b[39m.\u001b[39mrcParams[\u001b[39m\"\u001b[39m\u001b[39mlines.markersize\u001b[39m\u001b[39m\"\u001b[39m])\n\u001b[0;32m    536\u001b[0m     )\n\u001b[1;32m--> 538\u001b[0m     \u001b[39msuper\u001b[39;49m()\u001b[39m.\u001b[39;49m\u001b[39m__init__\u001b[39;49m(data\u001b[39m=\u001b[39;49mdata, variables\u001b[39m=\u001b[39;49mvariables)\n\u001b[0;32m    540\u001b[0m     \u001b[39mself\u001b[39m\u001b[39m.\u001b[39mlegend \u001b[39m=\u001b[39m legend\n",
      "File \u001b[1;32m~\\AppData\\Local\\Packages\\PythonSoftwareFoundation.Python.3.11_qbz5n2kfra8p0\\LocalCache\\local-packages\\Python311\\site-packages\\seaborn\\_oldcore.py:640\u001b[0m, in \u001b[0;36mVectorPlotter.__init__\u001b[1;34m(self, data, variables)\u001b[0m\n\u001b[0;32m    635\u001b[0m \u001b[39m# var_ordered is relevant only for categorical axis variables, and may\u001b[39;00m\n\u001b[0;32m    636\u001b[0m \u001b[39m# be better handled by an internal axis information object that tracks\u001b[39;00m\n\u001b[0;32m    637\u001b[0m \u001b[39m# such information and is set up by the scale_* methods. The analogous\u001b[39;00m\n\u001b[0;32m    638\u001b[0m \u001b[39m# information for numeric axes would be information about log scales.\u001b[39;00m\n\u001b[0;32m    639\u001b[0m \u001b[39mself\u001b[39m\u001b[39m.\u001b[39m_var_ordered \u001b[39m=\u001b[39m {\u001b[39m\"\u001b[39m\u001b[39mx\u001b[39m\u001b[39m\"\u001b[39m: \u001b[39mFalse\u001b[39;00m, \u001b[39m\"\u001b[39m\u001b[39my\u001b[39m\u001b[39m\"\u001b[39m: \u001b[39mFalse\u001b[39;00m}  \u001b[39m# alt., used DefaultDict\u001b[39;00m\n\u001b[1;32m--> 640\u001b[0m \u001b[39mself\u001b[39;49m\u001b[39m.\u001b[39;49massign_variables(data, variables)\n\u001b[0;32m    642\u001b[0m \u001b[39mfor\u001b[39;00m var, \u001b[39mcls\u001b[39m \u001b[39min\u001b[39;00m \u001b[39mself\u001b[39m\u001b[39m.\u001b[39m_semantic_mappings\u001b[39m.\u001b[39mitems():\n\u001b[0;32m    643\u001b[0m \n\u001b[0;32m    644\u001b[0m     \u001b[39m# Create the mapping function\u001b[39;00m\n\u001b[0;32m    645\u001b[0m     map_func \u001b[39m=\u001b[39m partial(\u001b[39mcls\u001b[39m\u001b[39m.\u001b[39mmap, plotter\u001b[39m=\u001b[39m\u001b[39mself\u001b[39m)\n",
      "File \u001b[1;32m~\\AppData\\Local\\Packages\\PythonSoftwareFoundation.Python.3.11_qbz5n2kfra8p0\\LocalCache\\local-packages\\Python311\\site-packages\\seaborn\\_oldcore.py:701\u001b[0m, in \u001b[0;36mVectorPlotter.assign_variables\u001b[1;34m(self, data, variables)\u001b[0m\n\u001b[0;32m    699\u001b[0m \u001b[39melse\u001b[39;00m:\n\u001b[0;32m    700\u001b[0m     \u001b[39mself\u001b[39m\u001b[39m.\u001b[39minput_format \u001b[39m=\u001b[39m \u001b[39m\"\u001b[39m\u001b[39mlong\u001b[39m\u001b[39m\"\u001b[39m\n\u001b[1;32m--> 701\u001b[0m     plot_data, variables \u001b[39m=\u001b[39m \u001b[39mself\u001b[39;49m\u001b[39m.\u001b[39;49m_assign_variables_longform(\n\u001b[0;32m    702\u001b[0m         data, \u001b[39m*\u001b[39;49m\u001b[39m*\u001b[39;49mvariables,\n\u001b[0;32m    703\u001b[0m     )\n\u001b[0;32m    705\u001b[0m \u001b[39mself\u001b[39m\u001b[39m.\u001b[39mplot_data \u001b[39m=\u001b[39m plot_data\n\u001b[0;32m    706\u001b[0m \u001b[39mself\u001b[39m\u001b[39m.\u001b[39mvariables \u001b[39m=\u001b[39m variables\n",
      "File \u001b[1;32m~\\AppData\\Local\\Packages\\PythonSoftwareFoundation.Python.3.11_qbz5n2kfra8p0\\LocalCache\\local-packages\\Python311\\site-packages\\seaborn\\_oldcore.py:938\u001b[0m, in \u001b[0;36mVectorPlotter._assign_variables_longform\u001b[1;34m(self, data, **kwargs)\u001b[0m\n\u001b[0;32m    933\u001b[0m \u001b[39melif\u001b[39;00m \u001b[39misinstance\u001b[39m(val, (\u001b[39mstr\u001b[39m, \u001b[39mbytes\u001b[39m)):\n\u001b[0;32m    934\u001b[0m \n\u001b[0;32m    935\u001b[0m     \u001b[39m# This looks like a column name but we don't know what it means!\u001b[39;00m\n\u001b[0;32m    937\u001b[0m     err \u001b[39m=\u001b[39m \u001b[39mf\u001b[39m\u001b[39m\"\u001b[39m\u001b[39mCould not interpret value `\u001b[39m\u001b[39m{\u001b[39;00mval\u001b[39m}\u001b[39;00m\u001b[39m` for parameter `\u001b[39m\u001b[39m{\u001b[39;00mkey\u001b[39m}\u001b[39;00m\u001b[39m`\u001b[39m\u001b[39m\"\u001b[39m\n\u001b[1;32m--> 938\u001b[0m     \u001b[39mraise\u001b[39;00m \u001b[39mValueError\u001b[39;00m(err)\n\u001b[0;32m    940\u001b[0m \u001b[39melse\u001b[39;00m:\n\u001b[0;32m    941\u001b[0m \n\u001b[0;32m    942\u001b[0m     \u001b[39m# Otherwise, assume the value is itself data\u001b[39;00m\n\u001b[0;32m    943\u001b[0m \n\u001b[0;32m    944\u001b[0m     \u001b[39m# Raise when data object is present and a vector can't matched\u001b[39;00m\n\u001b[0;32m    945\u001b[0m     \u001b[39mif\u001b[39;00m \u001b[39misinstance\u001b[39m(data, pd\u001b[39m.\u001b[39mDataFrame) \u001b[39mand\u001b[39;00m \u001b[39mnot\u001b[39;00m \u001b[39misinstance\u001b[39m(val, pd\u001b[39m.\u001b[39mSeries):\n",
      "\u001b[1;31mValueError\u001b[0m: Could not interpret value `playtime_2weeks` for parameter `y`"
     ]
    },
    {
     "data": {
      "text/plain": [
       "<Figure size 800x600 with 0 Axes>"
      ]
     },
     "metadata": {},
     "output_type": "display_data"
    }
   ],
   "source": [
    "# Creación de un histograma para la columna 'sentiment_analysis'\n",
    "plt.figure(figsize=(10, 4))\n",
    "plt.subplot(1, 2, 1)\n",
    "sns.histplot(df_review['sentiment_analysis'], kde=True)\n",
    "plt.title('Distribución de Sentimientos en las Reseñas')\n",
    "plt.xlabel('Sentimiento')\n",
    "plt.ylabel('Frecuencia')\n",
    "plt.show()\n",
    "\n",
    "# Crear un gráfico de dispersión para mi Dataframe 'df_items' \n",
    "plt.figure(figsize=(8, 6))\n",
    "sns.scatterplot(data=df_items, x='playtime_forever', y='playtime_2weeks')\n",
    "plt.title('Gráfico de Dispersión entre playtime_forever y playtime_2weeks')\n",
    "plt.xlabel('playtime_forever')\n",
    "plt.ylabel('playtime_2weeks')\n",
    "plt.show()\n",
    "\n",
    "# Esto agrupa los valores y cuenta cuántas veces aparece cada uno\n",
    "genres_counts = df_games['genres'].value_counts()\n",
    "\n",
    "# Voy a crear un gráfico de barras para 'df_games' \n",
    "plt.figure(figsize=(12, 6))  # Establece el tamaño del gráfico\n",
    "sns.barplot(x=genres_counts[:10], y=genres_counts.index[:10], palette=\"viridis\")\n",
    "\n",
    "# etiquetamos\n",
    "plt.xlabel(\"Número de Juegos\")\n",
    "plt.ylabel(\"Género\")\n",
    "plt.title(\"Los 10 géneros más comunes en el DataFrame\")\n",
    "plt.show()"
   ]
  },
  {
   "cell_type": "code",
   "execution_count": null,
   "metadata": {},
   "outputs": [],
   "source": []
  },
  {
   "cell_type": "markdown",
   "metadata": {},
   "source": [
    "Creacion de DataFrames para las funciones requeridas "
   ]
  },
  {
   "cell_type": "code",
   "execution_count": null,
   "metadata": {},
   "outputs": [],
   "source": [
    "# Selecciona las columnas 'genres' y 'release_date' del DataFrame df_games\n",
    "df_PlayTimeGenre = df_games[['genres', 'release_date']]\n",
    "\n",
    "# Selecciona la columna 'playtime_forever' del DataFrame df_items\n",
    "df_items_subset = df_items[['playtime_forever','item_id']]\n",
    "\n",
    "# Combina las columnas seleccionadas en un nuevo DataFrame\n",
    "PlayTimeGenre = pd.concat([df_PlayTimeGenre, df_items_subset], axis=1)"
   ]
  },
  {
   "cell_type": "code",
   "execution_count": null,
   "metadata": {},
   "outputs": [
    {
     "name": "stdout",
     "output_type": "stream",
     "text": [
      "<class 'pandas.core.frame.DataFrame'>\n",
      "Index: 22441 entries, 0 to 22509\n",
      "Data columns (total 4 columns):\n",
      " #   Column            Non-Null Count  Dtype  \n",
      "---  ------            --------------  -----  \n",
      " 0   genres            22441 non-null  object \n",
      " 1   release_date      22441 non-null  object \n",
      " 2   playtime_forever  22441 non-null  float64\n",
      " 3   item_id           22441 non-null  float64\n",
      "dtypes: float64(2), object(2)\n",
      "memory usage: 876.6+ KB\n"
     ]
    }
   ],
   "source": [
    "PlayTimeGenre.info()"
   ]
  },
  {
   "cell_type": "code",
   "execution_count": null,
   "metadata": {},
   "outputs": [],
   "source": [
    "#Eliminando valores nulos para reducir tamaño\n",
    "PlayTimeGenre.dropna(inplace=True)"
   ]
  },
  {
   "cell_type": "code",
   "execution_count": null,
   "metadata": {},
   "outputs": [
    {
     "name": "stdout",
     "output_type": "stream",
     "text": [
      "<class 'pandas.core.frame.DataFrame'>\n",
      "Index: 22441 entries, 0 to 22509\n",
      "Data columns (total 4 columns):\n",
      " #   Column            Non-Null Count  Dtype  \n",
      "---  ------            --------------  -----  \n",
      " 0   genres            22441 non-null  object \n",
      " 1   release_date      22441 non-null  object \n",
      " 2   playtime_forever  22441 non-null  float64\n",
      " 3   item_id           22441 non-null  float64\n",
      "dtypes: float64(2), object(2)\n",
      "memory usage: 876.6+ KB\n"
     ]
    }
   ],
   "source": [
    "PlayTimeGenre.info()"
   ]
  },
  {
   "cell_type": "code",
   "execution_count": null,
   "metadata": {},
   "outputs": [],
   "source": [
    "PlayTimeGenre.to_csv('PlayTimeGenre.csv', index=False)"
   ]
  },
  {
   "cell_type": "code",
   "execution_count": null,
   "metadata": {},
   "outputs": [],
   "source": [
    "# Selecciona las columnas 'genres' y 'release_date' del DataFrame df_games\n",
    "df_UserForGenre = df_games[['genres', 'release_date']]\n",
    "\n",
    "# Selecciona la columna 'playtime_forever' del DataFrame df_items\n",
    "df_items_subset = df_items[['playtime_forever','user_id']]\n",
    "\n",
    "# Combina las columnas seleccionadas en un nuevo DataFrame\n",
    "UserForGenre = pd.concat([df_UserForGenre, df_items_subset], axis=1)"
   ]
  },
  {
   "cell_type": "code",
   "execution_count": null,
   "metadata": {},
   "outputs": [
    {
     "name": "stdout",
     "output_type": "stream",
     "text": [
      "<class 'pandas.core.frame.DataFrame'>\n",
      "Index: 5093007 entries, 0 to 5094091\n",
      "Data columns (total 4 columns):\n",
      " #   Column            Dtype  \n",
      "---  ------            -----  \n",
      " 0   genres            object \n",
      " 1   release_date      object \n",
      " 2   playtime_forever  float64\n",
      " 3   user_id           object \n",
      "dtypes: float64(1), object(3)\n",
      "memory usage: 194.3+ MB\n"
     ]
    }
   ],
   "source": [
    "UserForGenre.info()"
   ]
  },
  {
   "cell_type": "code",
   "execution_count": null,
   "metadata": {},
   "outputs": [],
   "source": [
    "UserForGenre.dropna(inplace=True)"
   ]
  },
  {
   "cell_type": "code",
   "execution_count": null,
   "metadata": {},
   "outputs": [
    {
     "name": "stdout",
     "output_type": "stream",
     "text": [
      "<class 'pandas.core.frame.DataFrame'>\n",
      "Index: 22441 entries, 0 to 22509\n",
      "Data columns (total 4 columns):\n",
      " #   Column            Non-Null Count  Dtype  \n",
      "---  ------            --------------  -----  \n",
      " 0   genres            22441 non-null  object \n",
      " 1   release_date      22441 non-null  object \n",
      " 2   playtime_forever  22441 non-null  float64\n",
      " 3   user_id           22441 non-null  object \n",
      "dtypes: float64(1), object(3)\n",
      "memory usage: 876.6+ KB\n"
     ]
    }
   ],
   "source": [
    "UserForGenre.info()"
   ]
  },
  {
   "cell_type": "code",
   "execution_count": null,
   "metadata": {},
   "outputs": [],
   "source": [
    "UserForGenre.to_csv('UserForGenre.csv', index=False)"
   ]
  },
  {
   "cell_type": "code",
   "execution_count": null,
   "metadata": {},
   "outputs": [],
   "source": [
    "# Selecciona las columnas 'title' y 'release_date' del DataFrame df_games\n",
    "df_UsersRecommend = df_games[['title', 'release_date']]\n",
    "\n",
    "# Selecciona la columna 'recommend', 'user_id' del DataFrame df_review\n",
    "df_review_subset = df_review[['recommend','user_id','sentiment_analysis']]\n",
    "\n",
    "# Combina las columnas seleccionadas en un nuevo DataFrame\n",
    "UsersRecommend = pd.concat([df_UsersRecommend, df_review_subset], axis=1)"
   ]
  },
  {
   "cell_type": "code",
   "execution_count": null,
   "metadata": {},
   "outputs": [
    {
     "name": "stdout",
     "output_type": "stream",
     "text": [
      "<class 'pandas.core.frame.DataFrame'>\n",
      "Index: 22447 entries, 0 to 3\n",
      "Data columns (total 5 columns):\n",
      " #   Column              Non-Null Count  Dtype  \n",
      "---  ------              --------------  -----  \n",
      " 0   title               22446 non-null  object \n",
      " 1   release_date        22446 non-null  object \n",
      " 2   recommend           1152 non-null   object \n",
      " 3   user_id             1152 non-null   object \n",
      " 4   sentiment_analysis  1152 non-null   float64\n",
      "dtypes: float64(1), object(4)\n",
      "memory usage: 1.0+ MB\n"
     ]
    }
   ],
   "source": [
    "UsersRecommend.info()"
   ]
  },
  {
   "cell_type": "code",
   "execution_count": null,
   "metadata": {},
   "outputs": [],
   "source": [
    "UsersRecommend.dropna(inplace=True)"
   ]
  },
  {
   "cell_type": "code",
   "execution_count": null,
   "metadata": {},
   "outputs": [
    {
     "name": "stdout",
     "output_type": "stream",
     "text": [
      "<class 'pandas.core.frame.DataFrame'>\n",
      "Index: 1151 entries, 0 to 1159\n",
      "Data columns (total 5 columns):\n",
      " #   Column              Non-Null Count  Dtype  \n",
      "---  ------              --------------  -----  \n",
      " 0   title               1151 non-null   object \n",
      " 1   release_date        1151 non-null   object \n",
      " 2   recommend           1151 non-null   object \n",
      " 3   user_id             1151 non-null   object \n",
      " 4   sentiment_analysis  1151 non-null   float64\n",
      "dtypes: float64(1), object(4)\n",
      "memory usage: 54.0+ KB\n"
     ]
    }
   ],
   "source": [
    "UsersRecommend.info()"
   ]
  },
  {
   "cell_type": "code",
   "execution_count": null,
   "metadata": {},
   "outputs": [],
   "source": [
    "UsersRecommend.to_csv('UsersRecommend.csv', index=False)"
   ]
  },
  {
   "cell_type": "code",
   "execution_count": null,
   "metadata": {},
   "outputs": [],
   "source": [
    "# Selecciona las columnas 'title' y 'release_date' del DataFrame df_games\n",
    "df_UsersWorstDeveloper = df_games[['title', 'release_date']]\n",
    "\n",
    "# Selecciona la columna 'recommend', 'user_id' del DataFrame df_review\n",
    "df_review_subset = df_review[['recommend','user_id']]\n",
    "\n",
    "# Combina las columnas seleccionadas en un nuevo DataFrame\n",
    "UsersWorstDeveloper = pd.concat([df_UsersNotRecommend, df_review_subset], axis=1)"
   ]
  },
  {
   "cell_type": "code",
   "execution_count": null,
   "metadata": {},
   "outputs": [],
   "source": [
    "UsersWorstDeveloper.dropna(inplace=True)"
   ]
  },
  {
   "cell_type": "code",
   "execution_count": null,
   "metadata": {},
   "outputs": [
    {
     "name": "stdout",
     "output_type": "stream",
     "text": [
      "<class 'pandas.core.frame.DataFrame'>\n",
      "Index: 1151 entries, 0 to 1159\n",
      "Data columns (total 4 columns):\n",
      " #   Column        Non-Null Count  Dtype \n",
      "---  ------        --------------  ----- \n",
      " 0   title         1151 non-null   object\n",
      " 1   release_date  1151 non-null   object\n",
      " 2   recommend     1151 non-null   object\n",
      " 3   user_id       1151 non-null   object\n",
      "dtypes: object(4)\n",
      "memory usage: 45.0+ KB\n"
     ]
    }
   ],
   "source": [
    "UsersWorstDeveloper.info()"
   ]
  },
  {
   "cell_type": "code",
   "execution_count": null,
   "metadata": {},
   "outputs": [],
   "source": [
    "UsersWorstDeveloper.to_csv('UsersWorstDeveloper.csv', index=False)"
   ]
  },
  {
   "cell_type": "code",
   "execution_count": null,
   "metadata": {},
   "outputs": [],
   "source": [
    "# Selecciona las columnas 'title' y 'release_date' del DataFrame df_games\n",
    "df_sentiment_analysis = df_games[['release_date']]\n",
    "\n",
    "# Selecciona la columna 'recommend', 'user_id' del DataFrame df_review\n",
    "df_review_subset = df_review[['sentiment_analysis','user_id']]\n",
    "\n",
    "# Combina las columnas seleccionadas en un nuevo DataFrame\n",
    "sentiment_analysis = pd.concat([df_sentiment_analysis, df_review_subset], axis=1)"
   ]
  },
  {
   "cell_type": "code",
   "execution_count": null,
   "metadata": {},
   "outputs": [],
   "source": [
    "sentiment_analysis.dropna(inplace=True)"
   ]
  },
  {
   "cell_type": "code",
   "execution_count": null,
   "metadata": {},
   "outputs": [],
   "source": [
    "sentiment_analysis.to_csv('sentiment_analysis.csv', index=False)"
   ]
  }
 ],
 "metadata": {
  "kernelspec": {
   "display_name": "Python 3",
   "language": "python",
   "name": "python3"
  },
  "language_info": {
   "codemirror_mode": {
    "name": "ipython",
    "version": 3
   },
   "file_extension": ".py",
   "mimetype": "text/x-python",
   "name": "python",
   "nbconvert_exporter": "python",
   "pygments_lexer": "ipython3",
   "version": "3.11.6"
  }
 },
 "nbformat": 4,
 "nbformat_minor": 2
}
