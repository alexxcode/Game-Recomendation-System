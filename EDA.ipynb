{
 "cells": [
  {
   "cell_type": "markdown",
   "metadata": {},
   "source": [
    "## Análisis Exploratorio de Datos"
   ]
  },
  {
   "cell_type": "markdown",
   "metadata": {},
   "source": [
    "Importar librerías:"
   ]
  },
  {
   "cell_type": "code",
   "execution_count": 56,
   "metadata": {},
   "outputs": [],
   "source": [
    "# importar bibliotecas:\n",
    "import pandas as pd\n",
    "import matplotlib.pyplot as plt\n",
    "import seaborn as sns\n",
    "sns.set()"
   ]
  },
  {
   "cell_type": "markdown",
   "metadata": {},
   "source": [
    "**Antes de analizar y graficar los datos, leemos y verificamos su estructura y valores erroneos una vez más:**"
   ]
  },
  {
   "cell_type": "markdown",
   "metadata": {},
   "source": [
    "**Reviews**"
   ]
  },
  {
   "cell_type": "code",
   "execution_count": 57,
   "metadata": {},
   "outputs": [],
   "source": [
    "df_review= pd.read_csv('reviews.csv')"
   ]
  },
  {
   "cell_type": "code",
   "execution_count": 58,
   "metadata": {},
   "outputs": [
    {
     "data": {
      "text/html": [
       "<div>\n",
       "<style scoped>\n",
       "    .dataframe tbody tr th:only-of-type {\n",
       "        vertical-align: middle;\n",
       "    }\n",
       "\n",
       "    .dataframe tbody tr th {\n",
       "        vertical-align: top;\n",
       "    }\n",
       "\n",
       "    .dataframe thead th {\n",
       "        text-align: right;\n",
       "    }\n",
       "</style>\n",
       "<table border=\"1\" class=\"dataframe\">\n",
       "  <thead>\n",
       "    <tr style=\"text-align: right;\">\n",
       "      <th></th>\n",
       "      <th>user_id</th>\n",
       "      <th>funny</th>\n",
       "      <th>item_id</th>\n",
       "      <th>helpful</th>\n",
       "      <th>recommend</th>\n",
       "      <th>sentiment_analysis</th>\n",
       "    </tr>\n",
       "  </thead>\n",
       "  <tbody>\n",
       "    <tr>\n",
       "      <th>0</th>\n",
       "      <td>Wackky</td>\n",
       "      <td>1 person found this review funny</td>\n",
       "      <td>550</td>\n",
       "      <td>1 of 1 people (100%) found this review helpful</td>\n",
       "      <td>True</td>\n",
       "      <td>1</td>\n",
       "    </tr>\n",
       "    <tr>\n",
       "      <th>1</th>\n",
       "      <td>kevinator23</td>\n",
       "      <td>1 person found this review funny</td>\n",
       "      <td>218620</td>\n",
       "      <td>2 of 5 people (40%) found this review helpful</td>\n",
       "      <td>True</td>\n",
       "      <td>0</td>\n",
       "    </tr>\n",
       "    <tr>\n",
       "      <th>2</th>\n",
       "      <td>Lord_Exploit</td>\n",
       "      <td>1 person found this review funny</td>\n",
       "      <td>311560</td>\n",
       "      <td>6 of 10 people (60%) found this review helpful</td>\n",
       "      <td>True</td>\n",
       "      <td>2</td>\n",
       "    </tr>\n",
       "  </tbody>\n",
       "</table>\n",
       "</div>"
      ],
      "text/plain": [
       "        user_id                             funny  item_id  \\\n",
       "0        Wackky  1 person found this review funny      550   \n",
       "1   kevinator23  1 person found this review funny   218620   \n",
       "2  Lord_Exploit  1 person found this review funny   311560   \n",
       "\n",
       "                                          helpful  recommend  \\\n",
       "0  1 of 1 people (100%) found this review helpful       True   \n",
       "1   2 of 5 people (40%) found this review helpful       True   \n",
       "2  6 of 10 people (60%) found this review helpful       True   \n",
       "\n",
       "   sentiment_analysis  \n",
       "0                   1  \n",
       "1                   0  \n",
       "2                   2  "
      ]
     },
     "execution_count": 58,
     "metadata": {},
     "output_type": "execute_result"
    }
   ],
   "source": [
    "df_review.head(3)"
   ]
  },
  {
   "cell_type": "code",
   "execution_count": 59,
   "metadata": {},
   "outputs": [
    {
     "data": {
      "text/html": [
       "<div>\n",
       "<style scoped>\n",
       "    .dataframe tbody tr th:only-of-type {\n",
       "        vertical-align: middle;\n",
       "    }\n",
       "\n",
       "    .dataframe tbody tr th {\n",
       "        vertical-align: top;\n",
       "    }\n",
       "\n",
       "    .dataframe thead th {\n",
       "        text-align: right;\n",
       "    }\n",
       "</style>\n",
       "<table border=\"1\" class=\"dataframe\">\n",
       "  <thead>\n",
       "    <tr style=\"text-align: right;\">\n",
       "      <th></th>\n",
       "      <th>item_id</th>\n",
       "      <th>sentiment_analysis</th>\n",
       "    </tr>\n",
       "  </thead>\n",
       "  <tbody>\n",
       "    <tr>\n",
       "      <th>count</th>\n",
       "      <td>1160.000000</td>\n",
       "      <td>1160.000000</td>\n",
       "    </tr>\n",
       "    <tr>\n",
       "      <th>mean</th>\n",
       "      <td>200803.100862</td>\n",
       "      <td>1.200000</td>\n",
       "    </tr>\n",
       "    <tr>\n",
       "      <th>std</th>\n",
       "      <td>146467.734197</td>\n",
       "      <td>0.893655</td>\n",
       "    </tr>\n",
       "    <tr>\n",
       "      <th>min</th>\n",
       "      <td>20.000000</td>\n",
       "      <td>0.000000</td>\n",
       "    </tr>\n",
       "    <tr>\n",
       "      <th>25%</th>\n",
       "      <td>12210.000000</td>\n",
       "      <td>0.000000</td>\n",
       "    </tr>\n",
       "    <tr>\n",
       "      <th>50%</th>\n",
       "      <td>230410.000000</td>\n",
       "      <td>2.000000</td>\n",
       "    </tr>\n",
       "    <tr>\n",
       "      <th>75%</th>\n",
       "      <td>315807.500000</td>\n",
       "      <td>2.000000</td>\n",
       "    </tr>\n",
       "    <tr>\n",
       "      <th>max</th>\n",
       "      <td>516040.000000</td>\n",
       "      <td>2.000000</td>\n",
       "    </tr>\n",
       "  </tbody>\n",
       "</table>\n",
       "</div>"
      ],
      "text/plain": [
       "             item_id  sentiment_analysis\n",
       "count    1160.000000         1160.000000\n",
       "mean   200803.100862            1.200000\n",
       "std    146467.734197            0.893655\n",
       "min        20.000000            0.000000\n",
       "25%     12210.000000            0.000000\n",
       "50%    230410.000000            2.000000\n",
       "75%    315807.500000            2.000000\n",
       "max    516040.000000            2.000000"
      ]
     },
     "execution_count": 59,
     "metadata": {},
     "output_type": "execute_result"
    }
   ],
   "source": [
    "#  Estadísticas resumidas de columnas numéricas\n",
    "df_review.describe() "
   ]
  },
  {
   "cell_type": "markdown",
   "metadata": {},
   "source": [
    "**Items**"
   ]
  },
  {
   "cell_type": "code",
   "execution_count": 60,
   "metadata": {},
   "outputs": [],
   "source": [
    "df_items = pd.read_csv('items.csv')\n"
   ]
  },
  {
   "cell_type": "code",
   "execution_count": 61,
   "metadata": {},
   "outputs": [
    {
     "name": "stdout",
     "output_type": "stream",
     "text": [
      "<class 'pandas.core.frame.DataFrame'>\n",
      "RangeIndex: 5094105 entries, 0 to 5094104\n",
      "Data columns (total 6 columns):\n",
      " #   Column            Dtype \n",
      "---  ------            ----- \n",
      " 0   user_id           object\n",
      " 1   items_count       int64 \n",
      " 2   item_id           int64 \n",
      " 3   item_name         object\n",
      " 4   playtime_forever  int64 \n",
      " 5   playtime_2weeks   int64 \n",
      "dtypes: int64(4), object(2)\n",
      "memory usage: 233.2+ MB\n"
     ]
    }
   ],
   "source": [
    "df_items.info()"
   ]
  },
  {
   "cell_type": "code",
   "execution_count": 62,
   "metadata": {},
   "outputs": [
    {
     "name": "stdout",
     "output_type": "stream",
     "text": [
      "Valores nulos en la columna 'item_name': 1090\n",
      "\n",
      "Primeros valores no nulos en la columna:\n",
      "0              CounterStrike\n",
      "1      Team Fortress Classic\n",
      "2              Day of Defeat\n",
      "3         Deathmatch Classic\n",
      "4    HalfLife Opposing Force\n",
      "Name: item_name, dtype: object\n"
     ]
    }
   ],
   "source": [
    "# Analizamos la columna 'item_name' en busca de valores nulos\n",
    "columna_item_name = df_items['item_name'] # Selecciono la columna 'item_name'\n",
    "valores_nulos = columna_item_name.isnull().sum()  # Cuento la cantidad de valores nulos en la columna\n",
    "\n",
    "# Muestro la cantidad de valores nulos y los primeros valores no nulos en la columna\n",
    "print(f\"Valores nulos en la columna 'item_name': {valores_nulos}\")\n",
    "print(\"\\nPrimeros valores no nulos en la columna:\")\n",
    "print(columna_item_name.dropna().head())  # Muestro los primeros valores no nulos"
   ]
  },
  {
   "cell_type": "code",
   "execution_count": 63,
   "metadata": {},
   "outputs": [
    {
     "data": {
      "text/plain": [
       "user_id             0\n",
       "items_count         0\n",
       "item_id             0\n",
       "item_name           0\n",
       "playtime_forever    0\n",
       "playtime_2weeks     0\n",
       "dtype: int64"
      ]
     },
     "execution_count": 63,
     "metadata": {},
     "output_type": "execute_result"
    }
   ],
   "source": [
    "# Eliminar las filas con valores nulos en todo el DataFrame\n",
    "df_items.dropna(inplace=True)\n",
    "\n",
    "# Verificar que se hayan eliminado\n",
    "valores_nulos_despues = df_items.isnull().sum()\n",
    "valores_nulos_despues "
   ]
  },
  {
   "cell_type": "code",
   "execution_count": 64,
   "metadata": {},
   "outputs": [
    {
     "data": {
      "text/html": [
       "<div>\n",
       "<style scoped>\n",
       "    .dataframe tbody tr th:only-of-type {\n",
       "        vertical-align: middle;\n",
       "    }\n",
       "\n",
       "    .dataframe tbody tr th {\n",
       "        vertical-align: top;\n",
       "    }\n",
       "\n",
       "    .dataframe thead th {\n",
       "        text-align: right;\n",
       "    }\n",
       "</style>\n",
       "<table border=\"1\" class=\"dataframe\">\n",
       "  <thead>\n",
       "    <tr style=\"text-align: right;\">\n",
       "      <th></th>\n",
       "      <th>user_id</th>\n",
       "      <th>items_count</th>\n",
       "      <th>item_id</th>\n",
       "      <th>item_name</th>\n",
       "      <th>playtime_forever</th>\n",
       "      <th>playtime_2weeks</th>\n",
       "    </tr>\n",
       "  </thead>\n",
       "  <tbody>\n",
       "    <tr>\n",
       "      <th>count</th>\n",
       "      <td>5093015</td>\n",
       "      <td>5.093015e+06</td>\n",
       "      <td>5.093015e+06</td>\n",
       "      <td>5093015</td>\n",
       "      <td>5.093015e+06</td>\n",
       "      <td>5.093015e+06</td>\n",
       "    </tr>\n",
       "    <tr>\n",
       "      <th>unique</th>\n",
       "      <td>70912</td>\n",
       "      <td>NaN</td>\n",
       "      <td>NaN</td>\n",
       "      <td>10730</td>\n",
       "      <td>NaN</td>\n",
       "      <td>NaN</td>\n",
       "    </tr>\n",
       "    <tr>\n",
       "      <th>top</th>\n",
       "      <td>phrostb</td>\n",
       "      <td>NaN</td>\n",
       "      <td>NaN</td>\n",
       "      <td>Dota  Test</td>\n",
       "      <td>NaN</td>\n",
       "      <td>NaN</td>\n",
       "    </tr>\n",
       "    <tr>\n",
       "      <th>freq</th>\n",
       "      <td>7760</td>\n",
       "      <td>NaN</td>\n",
       "      <td>NaN</td>\n",
       "      <td>49136</td>\n",
       "      <td>NaN</td>\n",
       "      <td>NaN</td>\n",
       "    </tr>\n",
       "    <tr>\n",
       "      <th>mean</th>\n",
       "      <td>NaN</td>\n",
       "      <td>3.156817e+02</td>\n",
       "      <td>1.783790e+05</td>\n",
       "      <td>NaN</td>\n",
       "      <td>9.907150e+02</td>\n",
       "      <td>9.070876e+00</td>\n",
       "    </tr>\n",
       "    <tr>\n",
       "      <th>std</th>\n",
       "      <td>NaN</td>\n",
       "      <td>6.968559e+02</td>\n",
       "      <td>1.318627e+05</td>\n",
       "      <td>NaN</td>\n",
       "      <td>5.414788e+03</td>\n",
       "      <td>1.403294e+02</td>\n",
       "    </tr>\n",
       "    <tr>\n",
       "      <th>min</th>\n",
       "      <td>NaN</td>\n",
       "      <td>1.000000e+00</td>\n",
       "      <td>1.000000e+01</td>\n",
       "      <td>NaN</td>\n",
       "      <td>0.000000e+00</td>\n",
       "      <td>0.000000e+00</td>\n",
       "    </tr>\n",
       "    <tr>\n",
       "      <th>25%</th>\n",
       "      <td>NaN</td>\n",
       "      <td>7.100000e+01</td>\n",
       "      <td>3.445000e+04</td>\n",
       "      <td>NaN</td>\n",
       "      <td>0.000000e+00</td>\n",
       "      <td>0.000000e+00</td>\n",
       "    </tr>\n",
       "    <tr>\n",
       "      <th>50%</th>\n",
       "      <td>NaN</td>\n",
       "      <td>1.370000e+02</td>\n",
       "      <td>2.144200e+05</td>\n",
       "      <td>NaN</td>\n",
       "      <td>3.400000e+01</td>\n",
       "      <td>0.000000e+00</td>\n",
       "    </tr>\n",
       "    <tr>\n",
       "      <th>75%</th>\n",
       "      <td>NaN</td>\n",
       "      <td>2.750000e+02</td>\n",
       "      <td>2.664300e+05</td>\n",
       "      <td>NaN</td>\n",
       "      <td>3.550000e+02</td>\n",
       "      <td>0.000000e+00</td>\n",
       "    </tr>\n",
       "    <tr>\n",
       "      <th>max</th>\n",
       "      <td>NaN</td>\n",
       "      <td>7.762000e+03</td>\n",
       "      <td>5.307200e+05</td>\n",
       "      <td>NaN</td>\n",
       "      <td>6.427730e+05</td>\n",
       "      <td>1.996700e+04</td>\n",
       "    </tr>\n",
       "  </tbody>\n",
       "</table>\n",
       "</div>"
      ],
      "text/plain": [
       "        user_id   items_count       item_id   item_name  playtime_forever  \\\n",
       "count   5093015  5.093015e+06  5.093015e+06     5093015      5.093015e+06   \n",
       "unique    70912           NaN           NaN       10730               NaN   \n",
       "top     phrostb           NaN           NaN  Dota  Test               NaN   \n",
       "freq       7760           NaN           NaN       49136               NaN   \n",
       "mean        NaN  3.156817e+02  1.783790e+05         NaN      9.907150e+02   \n",
       "std         NaN  6.968559e+02  1.318627e+05         NaN      5.414788e+03   \n",
       "min         NaN  1.000000e+00  1.000000e+01         NaN      0.000000e+00   \n",
       "25%         NaN  7.100000e+01  3.445000e+04         NaN      0.000000e+00   \n",
       "50%         NaN  1.370000e+02  2.144200e+05         NaN      3.400000e+01   \n",
       "75%         NaN  2.750000e+02  2.664300e+05         NaN      3.550000e+02   \n",
       "max         NaN  7.762000e+03  5.307200e+05         NaN      6.427730e+05   \n",
       "\n",
       "        playtime_2weeks  \n",
       "count      5.093015e+06  \n",
       "unique              NaN  \n",
       "top                 NaN  \n",
       "freq                NaN  \n",
       "mean       9.070876e+00  \n",
       "std        1.403294e+02  \n",
       "min        0.000000e+00  \n",
       "25%        0.000000e+00  \n",
       "50%        0.000000e+00  \n",
       "75%        0.000000e+00  \n",
       "max        1.996700e+04  "
      ]
     },
     "execution_count": 64,
     "metadata": {},
     "output_type": "execute_result"
    }
   ],
   "source": [
    "# include='all' proporciona un resumen adicional de los datos\n",
    "df_items.describe(include='all')"
   ]
  },
  {
   "cell_type": "markdown",
   "metadata": {},
   "source": [
    "**Games**"
   ]
  },
  {
   "cell_type": "code",
   "execution_count": 65,
   "metadata": {},
   "outputs": [],
   "source": [
    "df_games= pd.read_csv('games.csv')"
   ]
  },
  {
   "cell_type": "code",
   "execution_count": 66,
   "metadata": {},
   "outputs": [
    {
     "name": "stdout",
     "output_type": "stream",
     "text": [
      "<class 'pandas.core.frame.DataFrame'>\n",
      "RangeIndex: 22510 entries, 0 to 22509\n",
      "Data columns (total 10 columns):\n",
      " #   Column        Non-Null Count  Dtype  \n",
      "---  ------        --------------  -----  \n",
      " 0   publisher     22475 non-null  object \n",
      " 1   genres        22510 non-null  object \n",
      " 2   app_name      22491 non-null  object \n",
      " 3   title         22491 non-null  object \n",
      " 4   release_date  22510 non-null  object \n",
      " 5   tags          22510 non-null  object \n",
      " 6   specs         22510 non-null  object \n",
      " 7   price         22510 non-null  object \n",
      " 8   id            22510 non-null  float64\n",
      " 9   developer     22463 non-null  object \n",
      "dtypes: float64(1), object(9)\n",
      "memory usage: 1.7+ MB\n"
     ]
    }
   ],
   "source": [
    "df_games.info()"
   ]
  },
  {
   "cell_type": "code",
   "execution_count": 67,
   "metadata": {},
   "outputs": [
    {
     "data": {
      "text/plain": [
       "publisher       35\n",
       "genres           0\n",
       "app_name        19\n",
       "title           19\n",
       "release_date     0\n",
       "tags             0\n",
       "specs            0\n",
       "price            0\n",
       "id               0\n",
       "developer       47\n",
       "dtype: int64"
      ]
     },
     "execution_count": 67,
     "metadata": {},
     "output_type": "execute_result"
    }
   ],
   "source": [
    "# verificar nulos\n",
    "valores_nulosG = df_games.isnull().sum()\n",
    "valores_nulosG"
   ]
  },
  {
   "cell_type": "code",
   "execution_count": 68,
   "metadata": {},
   "outputs": [
    {
     "data": {
      "text/plain": [
       "publisher       0\n",
       "genres          0\n",
       "app_name        0\n",
       "title           0\n",
       "release_date    0\n",
       "tags            0\n",
       "specs           0\n",
       "price           0\n",
       "id              0\n",
       "developer       0\n",
       "dtype: int64"
      ]
     },
     "execution_count": 68,
     "metadata": {},
     "output_type": "execute_result"
    }
   ],
   "source": [
    "# Eliminar las filas con valores nulos en todo el DataFrame\n",
    "df_games.dropna(inplace=True)\n",
    "\n",
    "# Verifico que se hayan eliminado\n",
    "valores_nulos_despues = df_games.isnull().sum()\n",
    "\n",
    "# Muestro la cantidad de valores nulos después de eliminarlos\n",
    "valores_nulos_despues"
   ]
  },
  {
   "cell_type": "code",
   "execution_count": 69,
   "metadata": {},
   "outputs": [
    {
     "data": {
      "text/html": [
       "<div>\n",
       "<style scoped>\n",
       "    .dataframe tbody tr th:only-of-type {\n",
       "        vertical-align: middle;\n",
       "    }\n",
       "\n",
       "    .dataframe tbody tr th {\n",
       "        vertical-align: top;\n",
       "    }\n",
       "\n",
       "    .dataframe thead th {\n",
       "        text-align: right;\n",
       "    }\n",
       "</style>\n",
       "<table border=\"1\" class=\"dataframe\">\n",
       "  <thead>\n",
       "    <tr style=\"text-align: right;\">\n",
       "      <th></th>\n",
       "      <th>id</th>\n",
       "    </tr>\n",
       "  </thead>\n",
       "  <tbody>\n",
       "    <tr>\n",
       "      <th>count</th>\n",
       "      <td>2.244600e+04</td>\n",
       "    </tr>\n",
       "    <tr>\n",
       "      <th>mean</th>\n",
       "      <td>4.301950e+05</td>\n",
       "    </tr>\n",
       "    <tr>\n",
       "      <th>std</th>\n",
       "      <td>1.917656e+05</td>\n",
       "    </tr>\n",
       "    <tr>\n",
       "      <th>min</th>\n",
       "      <td>1.000000e+01</td>\n",
       "    </tr>\n",
       "    <tr>\n",
       "      <th>25%</th>\n",
       "      <td>3.020375e+05</td>\n",
       "    </tr>\n",
       "    <tr>\n",
       "      <th>50%</th>\n",
       "      <td>4.260500e+05</td>\n",
       "    </tr>\n",
       "    <tr>\n",
       "      <th>75%</th>\n",
       "      <td>5.798200e+05</td>\n",
       "    </tr>\n",
       "    <tr>\n",
       "      <th>max</th>\n",
       "      <td>2.028850e+06</td>\n",
       "    </tr>\n",
       "  </tbody>\n",
       "</table>\n",
       "</div>"
      ],
      "text/plain": [
       "                 id\n",
       "count  2.244600e+04\n",
       "mean   4.301950e+05\n",
       "std    1.917656e+05\n",
       "min    1.000000e+01\n",
       "25%    3.020375e+05\n",
       "50%    4.260500e+05\n",
       "75%    5.798200e+05\n",
       "max    2.028850e+06"
      ]
     },
     "execution_count": 69,
     "metadata": {},
     "output_type": "execute_result"
    }
   ],
   "source": [
    "df_games.describe()"
   ]
  },
  {
   "cell_type": "code",
   "execution_count": 70,
   "metadata": {},
   "outputs": [],
   "source": [
    "# Cambiar nombre y tipo de dato a 'id' para hacer más sencilla su manipulación\n",
    "\n",
    "df_games['id'] = df_games['id'].astype('int64')\n",
    "df_games = df_games.rename(columns={'id': 'item_id'})"
   ]
  },
  {
   "cell_type": "code",
   "execution_count": 71,
   "metadata": {},
   "outputs": [
    {
     "name": "stdout",
     "output_type": "stream",
     "text": [
      "<class 'pandas.core.frame.DataFrame'>\n",
      "Index: 22446 entries, 0 to 22509\n",
      "Data columns (total 10 columns):\n",
      " #   Column        Non-Null Count  Dtype \n",
      "---  ------        --------------  ----- \n",
      " 0   publisher     22446 non-null  object\n",
      " 1   genres        22446 non-null  object\n",
      " 2   app_name      22446 non-null  object\n",
      " 3   title         22446 non-null  object\n",
      " 4   release_date  22446 non-null  object\n",
      " 5   tags          22446 non-null  object\n",
      " 6   specs         22446 non-null  object\n",
      " 7   price         22446 non-null  object\n",
      " 8   item_id       22446 non-null  int64 \n",
      " 9   developer     22446 non-null  object\n",
      "dtypes: int64(1), object(9)\n",
      "memory usage: 1.9+ MB\n"
     ]
    }
   ],
   "source": [
    "df_games.info()"
   ]
  },
  {
   "cell_type": "markdown",
   "metadata": {},
   "source": [
    "## Algunos gráficos para comprender mejor los datos:"
   ]
  },
  {
   "cell_type": "code",
   "execution_count": 72,
   "metadata": {},
   "outputs": [
    {
     "data": {
      "image/png": "[encoded data removed]",
      "text/plain": [
       "<Figure size 1000x400 with 1 Axes>"
      ]
     },
     "metadata": {},
     "output_type": "display_data"
    },
    {
     "data": {
      "image/png": "[encoded data removed]",
      "text/plain": [
       "<Figure size 800x600 with 1 Axes>"
      ]
     },
     "metadata": {},
     "output_type": "display_data"
    },
    {
     "data": {
      "image/png": "[encoded data removed]",
      "text/plain": [
       "<Figure size 1200x600 with 1 Axes>"
      ]
     },
     "metadata": {},
     "output_type": "display_data"
    }
   ],
   "source": [
    "# Creación de un histograma para la columna 'sentiment_analysis'\n",
    "plt.figure(figsize=(10, 4))\n",
    "plt.subplot(1, 2, 1)\n",
    "sns.histplot(df_review['sentiment_analysis'], kde=True)\n",
    "plt.title('Distribución de Sentimientos en las Reseñas')\n",
    "plt.xlabel('Sentimiento')\n",
    "plt.ylabel('Frecuencia')\n",
    "plt.show()\n",
    "\n",
    "# Crear un gráfico de dispersión para mi Dataframe 'df_items' \n",
    "plt.figure(figsize=(8, 6))\n",
    "sns.scatterplot(data=df_items, x='playtime_forever', y='playtime_2weeks')\n",
    "plt.title('Gráfico de Dispersión entre playtime_forever y playtime_2weeks')\n",
    "plt.xlabel('playtime_forever')\n",
    "plt.ylabel('playtime_2weeks')\n",
    "plt.show()\n",
    "\n",
    "# Esto agrupa los valores y cuenta cuántas veces aparece cada uno\n",
    "genres_counts = df_games['genres'].value_counts()\n",
    "\n",
    "# Voy a crear un gráfico de barras para 'df_games' \n",
    "plt.figure(figsize=(12, 6))  # Establece el tamaño del gráfico\n",
    "sns.barplot(x=genres_counts[:10], y=genres_counts.index[:10], palette=\"viridis\")\n",
    "\n",
    "# etiquetamos\n",
    "plt.xlabel(\"Número de Juegos\")\n",
    "plt.ylabel(\"Género\")\n",
    "plt.title(\"Los 10 géneros más comunes en el DataFrame\")\n",
    "plt.show()"
   ]
  },
  {
   "cell_type": "markdown",
   "metadata": {},
   "source": [
    "## Creación de archivos para las funciones requeridas "
   ]
  },
  {
   "cell_type": "code",
   "execution_count": 73,
   "metadata": {},
   "outputs": [],
   "source": [
    "# Selecciona las columnas 'genres' y 'release_date' del DataFrame df_games\n",
    "df_PlayTimeGenre = df_games[['genres', 'release_date']]\n",
    "\n",
    "# Selecciona la columna 'playtime_forever' del DataFrame df_items\n",
    "df_items_subset = df_items[['playtime_forever','item_id']]\n",
    "\n",
    "# Combina las columnas seleccionadas en un nuevo DataFrame\n",
    "PlayTimeGenre = pd.concat([df_PlayTimeGenre, df_items_subset], axis=1)"
   ]
  },
  {
   "cell_type": "code",
   "execution_count": 74,
   "metadata": {},
   "outputs": [
    {
     "name": "stdout",
     "output_type": "stream",
     "text": [
      "<class 'pandas.core.frame.DataFrame'>\n",
      "Index: 5093020 entries, 0 to 5094104\n",
      "Data columns (total 4 columns):\n",
      " #   Column            Dtype  \n",
      "---  ------            -----  \n",
      " 0   genres            object \n",
      " 1   release_date      object \n",
      " 2   playtime_forever  float64\n",
      " 3   item_id           float64\n",
      "dtypes: float64(2), object(2)\n",
      "memory usage: 194.3+ MB\n"
     ]
    }
   ],
   "source": [
    "PlayTimeGenre.info()"
   ]
  },
  {
   "cell_type": "code",
   "execution_count": 75,
   "metadata": {},
   "outputs": [],
   "source": [
    "#Eliminando valores nulos para reducir tamaño\n",
    "PlayTimeGenre.dropna(inplace=True)"
   ]
  },
  {
   "cell_type": "code",
   "execution_count": 76,
   "metadata": {},
   "outputs": [
    {
     "name": "stdout",
     "output_type": "stream",
     "text": [
      "<class 'pandas.core.frame.DataFrame'>\n",
      "Index: 22441 entries, 0 to 22509\n",
      "Data columns (total 4 columns):\n",
      " #   Column            Non-Null Count  Dtype  \n",
      "---  ------            --------------  -----  \n",
      " 0   genres            22441 non-null  object \n",
      " 1   release_date      22441 non-null  object \n",
      " 2   playtime_forever  22441 non-null  float64\n",
      " 3   item_id           22441 non-null  float64\n",
      "dtypes: float64(2), object(2)\n",
      "memory usage: 876.6+ KB\n"
     ]
    }
   ],
   "source": [
    "PlayTimeGenre.info()"
   ]
  },
  {
   "cell_type": "code",
   "execution_count": 77,
   "metadata": {},
   "outputs": [],
   "source": [
    "PlayTimeGenre.to_csv('PlayTimeGenre.csv', index=False)"
   ]
  },
  {
   "cell_type": "code",
   "execution_count": 78,
   "metadata": {},
   "outputs": [],
   "source": [
    "# Selecciona las columnas 'genres' y 'release_date' del DataFrame df_games\n",
    "df_UserForGenre = df_games[['genres', 'release_date']]\n",
    "\n",
    "# Selecciona la columna 'playtime_forever' del DataFrame df_items\n",
    "df_items_subset = df_items[['playtime_forever','user_id']]\n",
    "\n",
    "# Combina las columnas seleccionadas en un nuevo DataFrame\n",
    "UserForGenre = pd.concat([df_UserForGenre, df_items_subset], axis=1)"
   ]
  },
  {
   "cell_type": "code",
   "execution_count": 79,
   "metadata": {},
   "outputs": [
    {
     "name": "stdout",
     "output_type": "stream",
     "text": [
      "<class 'pandas.core.frame.DataFrame'>\n",
      "Index: 5093020 entries, 0 to 5094104\n",
      "Data columns (total 4 columns):\n",
      " #   Column            Dtype  \n",
      "---  ------            -----  \n",
      " 0   genres            object \n",
      " 1   release_date      object \n",
      " 2   playtime_forever  float64\n",
      " 3   user_id           object \n",
      "dtypes: float64(1), object(3)\n",
      "memory usage: 194.3+ MB\n"
     ]
    }
   ],
   "source": [
    "UserForGenre.info()"
   ]
  },
  {
   "cell_type": "code",
   "execution_count": 80,
   "metadata": {},
   "outputs": [],
   "source": [
    "UserForGenre.dropna(inplace=True)"
   ]
  },
  {
   "cell_type": "code",
   "execution_count": 81,
   "metadata": {},
   "outputs": [
    {
     "name": "stdout",
     "output_type": "stream",
     "text": [
      "<class 'pandas.core.frame.DataFrame'>\n",
      "Index: 22441 entries, 0 to 22509\n",
      "Data columns (total 4 columns):\n",
      " #   Column            Non-Null Count  Dtype  \n",
      "---  ------            --------------  -----  \n",
      " 0   genres            22441 non-null  object \n",
      " 1   release_date      22441 non-null  object \n",
      " 2   playtime_forever  22441 non-null  float64\n",
      " 3   user_id           22441 non-null  object \n",
      "dtypes: float64(1), object(3)\n",
      "memory usage: 876.6+ KB\n"
     ]
    }
   ],
   "source": [
    "UserForGenre.info()"
   ]
  },
  {
   "cell_type": "code",
   "execution_count": 82,
   "metadata": {},
   "outputs": [],
   "source": [
    "UserForGenre.to_csv('UserForGenre.csv', index=False)"
   ]
  },
  {
   "cell_type": "code",
   "execution_count": 83,
   "metadata": {},
   "outputs": [],
   "source": [
    "# Selecciona las columnas 'title' y 'release_date' del DataFrame df_games\n",
    "df_UsersRecommend = df_games[['title', 'release_date']]\n",
    "\n",
    "# Selecciona la columna 'recommend', 'user_id' del DataFrame df_review\n",
    "df_review_subset = df_review[['recommend','user_id','sentiment_analysis']]\n",
    "\n",
    "# Combina las columnas seleccionadas en un nuevo DataFrame\n",
    "UsersRecommend = pd.concat([df_UsersRecommend, df_review_subset], axis=1)"
   ]
  },
  {
   "cell_type": "code",
   "execution_count": 84,
   "metadata": {},
   "outputs": [
    {
     "name": "stdout",
     "output_type": "stream",
     "text": [
      "<class 'pandas.core.frame.DataFrame'>\n",
      "Index: 22447 entries, 0 to 3\n",
      "Data columns (total 5 columns):\n",
      " #   Column              Non-Null Count  Dtype  \n",
      "---  ------              --------------  -----  \n",
      " 0   title               22446 non-null  object \n",
      " 1   release_date        22446 non-null  object \n",
      " 2   recommend           1160 non-null   object \n",
      " 3   user_id             1160 non-null   object \n",
      " 4   sentiment_analysis  1160 non-null   float64\n",
      "dtypes: float64(1), object(4)\n",
      "memory usage: 1.0+ MB\n"
     ]
    }
   ],
   "source": [
    "UsersRecommend.info()"
   ]
  },
  {
   "cell_type": "code",
   "execution_count": 85,
   "metadata": {},
   "outputs": [],
   "source": [
    "UsersRecommend.dropna(inplace=True)"
   ]
  },
  {
   "cell_type": "code",
   "execution_count": 86,
   "metadata": {},
   "outputs": [
    {
     "name": "stdout",
     "output_type": "stream",
     "text": [
      "<class 'pandas.core.frame.DataFrame'>\n",
      "Index: 1159 entries, 0 to 1159\n",
      "Data columns (total 5 columns):\n",
      " #   Column              Non-Null Count  Dtype  \n",
      "---  ------              --------------  -----  \n",
      " 0   title               1159 non-null   object \n",
      " 1   release_date        1159 non-null   object \n",
      " 2   recommend           1159 non-null   object \n",
      " 3   user_id             1159 non-null   object \n",
      " 4   sentiment_analysis  1159 non-null   float64\n",
      "dtypes: float64(1), object(4)\n",
      "memory usage: 54.3+ KB\n"
     ]
    }
   ],
   "source": [
    "UsersRecommend.info()"
   ]
  },
  {
   "cell_type": "code",
   "execution_count": 87,
   "metadata": {},
   "outputs": [],
   "source": [
    "UsersRecommend.to_csv('UsersRecommend.csv', index=False)"
   ]
  },
  {
   "cell_type": "code",
   "execution_count": 88,
   "metadata": {},
   "outputs": [],
   "source": [
    "# Selecciona las columnas 'title' y 'release_date' del DataFrame df_games\n",
    "df_UsersWorstDeveloper = df_games[['title', 'release_date']]\n",
    "\n",
    "# Selecciona la columna 'recommend', 'user_id' del DataFrame df_review\n",
    "df_review_subset = df_review[['recommend','user_id']]\n",
    "\n",
    "# Combina las columnas seleccionadas en un nuevo DataFrame\n",
    "UsersWorstDeveloper = pd.concat([df_UsersWorstDeveloper , df_review_subset], axis=1)"
   ]
  },
  {
   "cell_type": "code",
   "execution_count": 89,
   "metadata": {},
   "outputs": [],
   "source": [
    "UsersWorstDeveloper.dropna(inplace=True)"
   ]
  },
  {
   "cell_type": "code",
   "execution_count": 90,
   "metadata": {},
   "outputs": [
    {
     "name": "stdout",
     "output_type": "stream",
     "text": [
      "<class 'pandas.core.frame.DataFrame'>\n",
      "Index: 1159 entries, 0 to 1159\n",
      "Data columns (total 4 columns):\n",
      " #   Column        Non-Null Count  Dtype \n",
      "---  ------        --------------  ----- \n",
      " 0   title         1159 non-null   object\n",
      " 1   release_date  1159 non-null   object\n",
      " 2   recommend     1159 non-null   object\n",
      " 3   user_id       1159 non-null   object\n",
      "dtypes: object(4)\n",
      "memory usage: 45.3+ KB\n"
     ]
    }
   ],
   "source": [
    "UsersWorstDeveloper.info()"
   ]
  },
  {
   "cell_type": "code",
   "execution_count": 91,
   "metadata": {},
   "outputs": [],
   "source": [
    "UsersWorstDeveloper.to_csv('UsersWorstDeveloper.csv', index=False)"
   ]
  },
  {
   "cell_type": "markdown",
   "metadata": {},
   "source": [
    "SENTIMENT ANALYSIS"
   ]
  },
  {
   "cell_type": "code",
   "execution_count": 92,
   "metadata": {},
   "outputs": [],
   "source": [
    "# Selecciona las columnas 'title' y 'release_date' del DataFrame df_games\n",
    "df_sentiment_analysis = df_games[['developer']]\n",
    "\n",
    "# Selecciona la columna 'recommend', 'user_id' del DataFrame df_review\n",
    "df_review_subset = df_review[['sentiment_analysis','user_id']]\n",
    "\n",
    "# Combina las columnas seleccionadas en un nuevo DataFrame\n",
    "sentiment_analysis = pd.concat([df_sentiment_analysis, df_review_subset], axis=1)"
   ]
  },
  {
   "cell_type": "code",
   "execution_count": 93,
   "metadata": {},
   "outputs": [],
   "source": [
    "sentiment_analysis.dropna(inplace=True)"
   ]
  },
  {
   "cell_type": "code",
   "execution_count": 94,
   "metadata": {},
   "outputs": [
    {
     "data": {
      "text/html": [
       "<div>\n",
       "<style scoped>\n",
       "    .dataframe tbody tr th:only-of-type {\n",
       "        vertical-align: middle;\n",
       "    }\n",
       "\n",
       "    .dataframe tbody tr th {\n",
       "        vertical-align: top;\n",
       "    }\n",
       "\n",
       "    .dataframe thead th {\n",
       "        text-align: right;\n",
       "    }\n",
       "</style>\n",
       "<table border=\"1\" class=\"dataframe\">\n",
       "  <thead>\n",
       "    <tr style=\"text-align: right;\">\n",
       "      <th></th>\n",
       "      <th>developer</th>\n",
       "      <th>sentiment_analysis</th>\n",
       "      <th>user_id</th>\n",
       "    </tr>\n",
       "  </thead>\n",
       "  <tbody>\n",
       "    <tr>\n",
       "      <th>0</th>\n",
       "      <td>Kotoshiro</td>\n",
       "      <td>1.0</td>\n",
       "      <td>Wackky</td>\n",
       "    </tr>\n",
       "    <tr>\n",
       "      <th>1</th>\n",
       "      <td>Secret Level SRL</td>\n",
       "      <td>0.0</td>\n",
       "      <td>kevinator23</td>\n",
       "    </tr>\n",
       "    <tr>\n",
       "      <th>2</th>\n",
       "      <td>Poolianscom</td>\n",
       "      <td>2.0</td>\n",
       "      <td>Lord_Exploit</td>\n",
       "    </tr>\n",
       "    <tr>\n",
       "      <th>4</th>\n",
       "      <td>Trickjump Games Ltd</td>\n",
       "      <td>1.0</td>\n",
       "      <td>2768820078</td>\n",
       "    </tr>\n",
       "    <tr>\n",
       "      <th>5</th>\n",
       "      <td>Poppermost Productions</td>\n",
       "      <td>2.0</td>\n",
       "      <td>1337lolroflmao</td>\n",
       "    </tr>\n",
       "  </tbody>\n",
       "</table>\n",
       "</div>"
      ],
      "text/plain": [
       "                developer  sentiment_analysis         user_id\n",
       "0               Kotoshiro                 1.0          Wackky\n",
       "1        Secret Level SRL                 0.0     kevinator23\n",
       "2             Poolianscom                 2.0    Lord_Exploit\n",
       "4     Trickjump Games Ltd                 1.0      2768820078\n",
       "5  Poppermost Productions                 2.0  1337lolroflmao"
      ]
     },
     "execution_count": 94,
     "metadata": {},
     "output_type": "execute_result"
    }
   ],
   "source": [
    "sentiment_analysis.head()"
   ]
  },
  {
   "cell_type": "code",
   "execution_count": 95,
   "metadata": {},
   "outputs": [],
   "source": [
    "sentiment_analysis.to_csv('sentiment_analysis.csv', index=False)"
   ]
  },
  {
   "cell_type": "markdown",
   "metadata": {},
   "source": [
    "**Creando DataFrame para el Modelo ML:**"
   ]
  },
  {
   "cell_type": "code",
   "execution_count": 96,
   "metadata": {},
   "outputs": [],
   "source": [
    "# Selecciona las columnas 'title' y 'release_date' del DataFrame df_games\n",
    "frame1= df_items[['user_id']]\n",
    "\n",
    "# Selecciona la columna 'recommend', 'user_id' del DataFrame df_review\n",
    "frame2= df_games[['genres', 'app_name' ,'item_id']]\n",
    "\n",
    "# Combina las columnas seleccionadas en un nuevo DataFrame\n",
    "framefinal= pd.concat([frame1, frame2], axis=1)"
   ]
  },
  {
   "cell_type": "code",
   "execution_count": 97,
   "metadata": {},
   "outputs": [
    {
     "data": {
      "text/html": [
       "<div>\n",
       "<style scoped>\n",
       "    .dataframe tbody tr th:only-of-type {\n",
       "        vertical-align: middle;\n",
       "    }\n",
       "\n",
       "    .dataframe tbody tr th {\n",
       "        vertical-align: top;\n",
       "    }\n",
       "\n",
       "    .dataframe thead th {\n",
       "        text-align: right;\n",
       "    }\n",
       "</style>\n",
       "<table border=\"1\" class=\"dataframe\">\n",
       "  <thead>\n",
       "    <tr style=\"text-align: right;\">\n",
       "      <th></th>\n",
       "      <th>user_id</th>\n",
       "      <th>genres</th>\n",
       "      <th>app_name</th>\n",
       "      <th>item_id</th>\n",
       "    </tr>\n",
       "  </thead>\n",
       "  <tbody>\n",
       "    <tr>\n",
       "      <th>0</th>\n",
       "      <td>76561197970982479</td>\n",
       "      <td>Action Casual Indie Simulation Strategy</td>\n",
       "      <td>Lost Summoner Kitty</td>\n",
       "      <td>761140.0</td>\n",
       "    </tr>\n",
       "    <tr>\n",
       "      <th>1</th>\n",
       "      <td>76561197970982479</td>\n",
       "      <td>Free to Play Indie RPG Strategy</td>\n",
       "      <td>Ironbound</td>\n",
       "      <td>643980.0</td>\n",
       "    </tr>\n",
       "    <tr>\n",
       "      <th>2</th>\n",
       "      <td>76561197970982479</td>\n",
       "      <td>Casual Free to Play Indie Simulation Sports</td>\n",
       "      <td>Real Pool D  Poolians</td>\n",
       "      <td>670290.0</td>\n",
       "    </tr>\n",
       "    <tr>\n",
       "      <th>3</th>\n",
       "      <td>76561197970982479</td>\n",
       "      <td>NaN</td>\n",
       "      <td>NaN</td>\n",
       "      <td>NaN</td>\n",
       "    </tr>\n",
       "    <tr>\n",
       "      <th>4</th>\n",
       "      <td>76561197970982479</td>\n",
       "      <td>Action Adventure Simulation</td>\n",
       "      <td>Battle Royale Trainer</td>\n",
       "      <td>772540.0</td>\n",
       "    </tr>\n",
       "  </tbody>\n",
       "</table>\n",
       "</div>"
      ],
      "text/plain": [
       "             user_id                                       genres  \\\n",
       "0  76561197970982479      Action Casual Indie Simulation Strategy   \n",
       "1  76561197970982479              Free to Play Indie RPG Strategy   \n",
       "2  76561197970982479  Casual Free to Play Indie Simulation Sports   \n",
       "3  76561197970982479                                          NaN   \n",
       "4  76561197970982479                  Action Adventure Simulation   \n",
       "\n",
       "                app_name   item_id  \n",
       "0    Lost Summoner Kitty  761140.0  \n",
       "1              Ironbound  643980.0  \n",
       "2  Real Pool D  Poolians  670290.0  \n",
       "3                    NaN       NaN  \n",
       "4  Battle Royale Trainer  772540.0  "
      ]
     },
     "execution_count": 97,
     "metadata": {},
     "output_type": "execute_result"
    }
   ],
   "source": [
    "framefinal.head(5)"
   ]
  },
  {
   "cell_type": "code",
   "execution_count": 98,
   "metadata": {},
   "outputs": [],
   "source": [
    "framefinal.dropna(inplace=True)\n",
    "framefinal = framefinal.drop_duplicates()"
   ]
  },
  {
   "cell_type": "code",
   "execution_count": 99,
   "metadata": {},
   "outputs": [],
   "source": [
    "framefinal.to_csv('Frame_ML.csv', index=False)"
   ]
  }
 ],
 "metadata": {
  "kernelspec": {
   "display_name": "Python 3",
   "language": "python",
   "name": "python3"
  },
  "language_info": {
   "codemirror_mode": {
    "name": "ipython",
    "version": 3
   },
   "file_extension": ".py",
   "mimetype": "text/x-python",
   "name": "python",
   "nbconvert_exporter": "python",
   "pygments_lexer": "ipython3",
   "version": "3.11.6"
  }
 },
 "nbformat": 4,
 "nbformat_minor": 2
}
