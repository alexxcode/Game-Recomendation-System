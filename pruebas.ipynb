{
 "cells": [
  {
   "cell_type": "code",
   "execution_count": 2,
   "metadata": {},
   "outputs": [],
   "source": [
    "\n",
    "import pandas as pd\n",
    "import numpy as np\n"
   ]
  },
  {
   "cell_type": "code",
   "execution_count": 3,
   "metadata": {},
   "outputs": [],
   "source": [
    "df1= pd.read_csv(r\"df_items.csv\", low_memory=False)\n",
    "df2= pd.read_csv(r\"df_reviews.csv\", low_memory=False)\n",
    "df3= pd.read_csv(r\"df_output.csv\", low_memory=False)"
   ]
  },
  {
   "cell_type": "code",
   "execution_count": null,
   "metadata": {},
   "outputs": [],
   "source": [
    "\n",
    "def PlayTimeGenre(genero: str):\n",
    "    # Carga los DataFrames en pandas\n",
    " \n",
    "    # Combina los DataFrames usando el método merge\n",
    "    df = pd.merge(df1, df2, on=\"item_id\")\n",
    "    df = pd.merge(df, df3, on=\"item_id\")\n",
    "\n",
    "    # Filtra las filas que corresponden al género especificado\n",
    "    df_genero = df.loc[df[\"genres\"] == genero]\n",
    "\n",
    "    # Agrupa los datos por año y calcula la suma de las horas jugadas para cada año\n",
    "    df_suma_horas = df_genero.groupby(\"release_year\")[\"playtime_forever\"].sum()\n",
    "\n",
    "    # Encuentra el año con la suma de horas jugadas más alta\n",
    "    año_max_horas = df_suma_horas.idxmax()\n",
    "\n",
    "    # Devuelve el año con la suma de horas jugadas más alta\n",
    "    return año_max_horas"
   ]
  }
 ],
 "metadata": {
  "kernelspec": {
   "display_name": "Python 3",
   "language": "python",
   "name": "python3"
  },
  "language_info": {
   "codemirror_mode": {
    "name": "ipython",
    "version": 3
   },
   "file_extension": ".py",
   "mimetype": "text/x-python",
   "name": "python",
   "nbconvert_exporter": "python",
   "pygments_lexer": "ipython3",
   "version": "3.11.6"
  }
 },
 "nbformat": 4,
 "nbformat_minor": 2
}
